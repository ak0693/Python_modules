{
 "cells": [
  {
   "cell_type": "markdown",
   "id": "eaaafa18-102f-4161-9282-99210480c2ad",
   "metadata": {},
   "source": [
    "# Lambda Functions"
   ]
  },
  {
   "cell_type": "markdown",
   "id": "153f7310-de50-4855-9f56-2f7203ad54a9",
   "metadata": {},
   "source": [
    "A lambda function is a small anonymous function which can take any number of arguments, but only one expression.\n",
    "\n",
    "`lambda arguments : expression`"
   ]
  },
  {
   "cell_type": "code",
   "execution_count": 1,
   "id": "5ceadae9-5ccb-42bb-b353-95bf5c506c67",
   "metadata": {},
   "outputs": [],
   "source": [
    "# adding 10 to the argument and returning the result\n",
    "x = lambda a : a+10"
   ]
  },
  {
   "cell_type": "code",
   "execution_count": 2,
   "id": "979eb96f-5cb1-41c3-8c4a-0266f32b239b",
   "metadata": {},
   "outputs": [
    {
     "data": {
      "text/plain": [
       "15"
      ]
     },
     "execution_count": 2,
     "metadata": {},
     "output_type": "execute_result"
    }
   ],
   "source": [
    "x(5)"
   ]
  },
  {
   "cell_type": "code",
   "execution_count": 3,
   "id": "329af1c6-f7ae-4655-b62a-2c1708b8ce7b",
   "metadata": {},
   "outputs": [
    {
     "data": {
      "text/plain": [
       "14"
      ]
     },
     "execution_count": 3,
     "metadata": {},
     "output_type": "execute_result"
    }
   ],
   "source": [
    "# lambda functions with more than one arguments\n",
    "z = lambda x, y : x*y\n",
    "z(2,7)"
   ]
  },
  {
   "cell_type": "code",
   "execution_count": 4,
   "id": "6642d73c-0ff2-4b2c-9321-b9a42aad6237",
   "metadata": {},
   "outputs": [
    {
     "name": "stdout",
     "output_type": "stream",
     "text": [
      "14\n",
      "18\n"
     ]
    }
   ],
   "source": [
    "# using lambda functions as anonymous functions inside another functions\n",
    "\n",
    "def myfunc(n):\n",
    "    return lambda a : a*n\n",
    "num_doubler = myfunc(2)\n",
    "num_tripler = myfunc(3)\n",
    "\n",
    "print(num_doubler(7))\n",
    "print(num_tripler(6))"
   ]
  },
  {
   "cell_type": "code",
   "execution_count": 5,
   "id": "8d9a1644-2166-49a4-b86a-e5dee770cc5c",
   "metadata": {},
   "outputs": [
    {
     "data": {
      "text/plain": [
       "9"
      ]
     },
     "execution_count": 5,
     "metadata": {},
     "output_type": "execute_result"
    }
   ],
   "source": [
    "# lambda function using if-else:\n",
    "max_num = lambda a, b : a if (a > b) else b\n",
    "max_num(4,9)"
   ]
  },
  {
   "cell_type": "code",
   "execution_count": null,
   "id": "b5cc76f5-4635-46a5-a026-9b367425866a",
   "metadata": {},
   "outputs": [],
   "source": []
  }
 ],
 "metadata": {
  "kernelspec": {
   "display_name": "Python 3 (ipykernel)",
   "language": "python",
   "name": "python3"
  },
  "language_info": {
   "codemirror_mode": {
    "name": "ipython",
    "version": 3
   },
   "file_extension": ".py",
   "mimetype": "text/x-python",
   "name": "python",
   "nbconvert_exporter": "python",
   "pygments_lexer": "ipython3",
   "version": "3.9.12"
  }
 },
 "nbformat": 4,
 "nbformat_minor": 5
}
