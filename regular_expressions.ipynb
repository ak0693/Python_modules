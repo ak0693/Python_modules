{
 "cells": [
  {
   "cell_type": "markdown",
   "id": "381e0a35-41bb-49e6-a57e-adc2a8f56067",
   "metadata": {},
   "source": [
    "# Regular Expressions"
   ]
  },
  {
   "cell_type": "markdown",
   "id": "a06ba37c-c872-476a-8b82-4dedc58b1841",
   "metadata": {},
   "source": [
    "RegEx are used for pattern matching.\n",
    "\n",
    "To see if a string contains the specified pattern or not."
   ]
  },
  {
   "cell_type": "code",
   "execution_count": 1,
   "id": "b92ecb99-dd15-43b9-b8f5-a6517ee91f98",
   "metadata": {},
   "outputs": [],
   "source": [
    "import re"
   ]
  },
  {
   "cell_type": "code",
   "execution_count": 2,
   "id": "d457c225-4d72-4215-a835-e30a0e6300bd",
   "metadata": {},
   "outputs": [],
   "source": [
    "txt = \"The rain in Spain\"\n",
    "x = re.search(\"^The.*Spain$\", txt)"
   ]
  },
  {
   "cell_type": "code",
   "execution_count": 3,
   "id": "649b1665-b480-47ec-96b4-f6443ead43e5",
   "metadata": {},
   "outputs": [
    {
     "name": "stdout",
     "output_type": "stream",
     "text": [
      "Woah! That's a match!\n"
     ]
    }
   ],
   "source": [
    "if x:\n",
    "    print(\"Woah! That's a match!\")\n",
    "else:\n",
    "    print(\"Nope. Sorry, nothing\")"
   ]
  },
  {
   "cell_type": "markdown",
   "id": "ef62165f-ffad-4660-b141-d16b14bf2888",
   "metadata": {},
   "source": [
    "<table>\n",
    "  <thead>\n",
    "    <tr>\n",
    "      <th>Character</th>\n",
    "      <th>Description</th>\n",
    "    </tr>\n",
    "  </thead>\n",
    "  <tbody>\n",
    "    <tr>\n",
    "      <td>findall</td>\n",
    "      <td>Returns a list containing all matches</td>\n",
    "    </tr>\n",
    "    <tr>\n",
    "      <td>search</td>\n",
    "      <td>Returns a Match object if there is a match anywhere in the string</td>\n",
    "    </tr>\n",
    "    <tr>\n",
    "      <td>split</td>\n",
    "      <td>Returns a list where the string has been at each match</td>\n",
    "    </tr>\n",
    "    <tr>\n",
    "      <td>sub</td>\n",
    "      <td>Replaces one or many matches with a string</td>\n",
    "    </tr>\n",
    "  </tbody>\n",
    "</table>"
   ]
  },
  {
   "cell_type": "markdown",
   "id": "220a4625-f792-49c1-9ba4-f67eaf125bc7",
   "metadata": {},
   "source": [
    "## Metacharacters"
   ]
  },
  {
   "cell_type": "markdown",
   "id": "8da124c3-cf3d-4147-a68c-6d8ea654a71d",
   "metadata": {},
   "source": [
    "<table>\n",
    "  <thead>\n",
    "    <tr>\n",
    "      <th>Character</th>\n",
    "      <th>Description</th>\n",
    "    </tr>\n",
    "  </thead>\n",
    "  <tbody>\n",
    "    <tr>\n",
    "      <td>[ ]</td>\n",
    "      <td>A set of characters to match.</td>\n",
    "    </tr>\n",
    "    <tr>\n",
    "      <td>\\</td>\n",
    "      <td>Escape sequence or used to signal a special sequence.</td>\n",
    "    </tr>\n",
    "    <tr>\n",
    "      <td>.</td>\n",
    "      <td>Any character except new line character.</td>\n",
    "    </tr>\n",
    "    <tr>\n",
    "      <td>^</td>\n",
    "      <td>Starts with.</td>\n",
    "    </tr>\n",
    "    <tr>\n",
    "      <td>$</td>\n",
    "      <td>Ends with.</td>\n",
    "    </tr>  \n",
    "    <tr>\n",
    "      <td>*</td>\n",
    "      <td>Zero or more occurances.</td>\n",
    "    </tr>\n",
    "    <tr>\n",
    "      <td>+</td>\n",
    "      <td>One or more occurances.</td>\n",
    "    </tr>\n",
    "    <tr>\n",
    "      <td>?</td>\n",
    "      <td>Zero or one occurances.</td>\n",
    "    </tr>\n",
    "    <tr>\n",
    "      <td>{ }</td>\n",
    "      <td>Exactly the specified number of occurances.</td>\n",
    "    </tr>\n",
    "    <tr>\n",
    "      <td>|</td>\n",
    "      <td>Either or</td>\n",
    "    </tr>\n",
    "    <tr>\n",
    "      <td>( )</td>\n",
    "      <td>Capture and group.</td>\n",
    "    </tr>\n",
    "  </tbody>\n",
    "</table>"
   ]
  },
  {
   "cell_type": "code",
   "execution_count": 4,
   "id": "76b0e6ae-3c08-4a26-9cc3-eac1b9ca6e73",
   "metadata": {},
   "outputs": [
    {
     "data": {
      "text/plain": [
       "['h', 'e', 'a', 'i', 'i', 'a', 'i']"
      ]
     },
     "execution_count": 4,
     "metadata": {},
     "output_type": "execute_result"
    }
   ],
   "source": [
    "txt = \"The rain in Spain\"\n",
    "# find all lower case characters from 'a' to 'm' in the string.\n",
    "\n",
    "x = re.findall(\"[a-m]\", txt)\n",
    "x"
   ]
  },
  {
   "cell_type": "code",
   "execution_count": 5,
   "id": "aa32e452-5462-48af-8fad-d6c355daab30",
   "metadata": {},
   "outputs": [
    {
     "data": {
      "text/plain": [
       "['5', '9']"
      ]
     },
     "execution_count": 5,
     "metadata": {},
     "output_type": "execute_result"
    }
   ],
   "source": [
    "txt = 'That will be 59 dollars'\n",
    "\n",
    "# find all digits characters.\n",
    "\n",
    "x = re.findall(\"\\d\", txt)\n",
    "x"
   ]
  },
  {
   "cell_type": "code",
   "execution_count": 6,
   "id": "39649237-adcb-48e8-b542-277c11a5c8da",
   "metadata": {},
   "outputs": [
    {
     "data": {
      "text/plain": [
       "['hello']"
      ]
     },
     "execution_count": 6,
     "metadata": {},
     "output_type": "execute_result"
    }
   ],
   "source": [
    "txt = \"hello planet\"\n",
    "\n",
    "# search for a sequence that starts with \"he\", followed by two (any) characters, and an \"o\".\n",
    "\n",
    "x = re.findall(\"he..o\", txt)\n",
    "x"
   ]
  },
  {
   "cell_type": "code",
   "execution_count": 7,
   "id": "c191debb-fb56-4d40-82b9-059a1b571191",
   "metadata": {},
   "outputs": [
    {
     "data": {
      "text/plain": [
       "True"
      ]
     },
     "execution_count": 7,
     "metadata": {},
     "output_type": "execute_result"
    }
   ],
   "source": [
    "# check whether the string starts with 'hello'.\n",
    "\n",
    "x =  re.findall('^hello', txt)\n",
    "bool(x)"
   ]
  },
  {
   "cell_type": "code",
   "execution_count": 8,
   "id": "0921749a-b3c1-443c-9ab2-1a64df3fb001",
   "metadata": {},
   "outputs": [
    {
     "data": {
      "text/plain": [
       "True"
      ]
     },
     "execution_count": 8,
     "metadata": {},
     "output_type": "execute_result"
    }
   ],
   "source": [
    "# check whether the string ends with 'planet'.\n",
    "\n",
    "x =  re.findall('planet$', txt)\n",
    "bool(x)"
   ]
  },
  {
   "cell_type": "code",
   "execution_count": 9,
   "id": "8e634784-1632-4003-807a-f4568a7d59d4",
   "metadata": {},
   "outputs": [
    {
     "data": {
      "text/plain": [
       "True"
      ]
     },
     "execution_count": 9,
     "metadata": {},
     "output_type": "execute_result"
    }
   ],
   "source": [
    "# Search for a sequence that starts with 'he', followed by 0 or more (any) characters, and an 'o':\n",
    "\n",
    "x = re.findall(\"he.*o\", txt)\n",
    "bool(x)"
   ]
  },
  {
   "cell_type": "code",
   "execution_count": 10,
   "id": "f14a56e2-404e-4d94-9f49-2f8b0cbcc0fe",
   "metadata": {},
   "outputs": [
    {
     "data": {
      "text/plain": [
       "False"
      ]
     },
     "execution_count": 10,
     "metadata": {},
     "output_type": "execute_result"
    }
   ],
   "source": [
    "#Search for a sequence that starts with \"he\", followed by 0 or 1  (any) character, and an \"o\":\n",
    "\n",
    "x = re.findall('he.?o', txt)\n",
    "bool(x)"
   ]
  },
  {
   "cell_type": "code",
   "execution_count": 11,
   "id": "92a178e5-c0c3-48c4-bca3-7fc7da8f4a65",
   "metadata": {},
   "outputs": [
    {
     "data": {
      "text/plain": [
       "True"
      ]
     },
     "execution_count": 11,
     "metadata": {},
     "output_type": "execute_result"
    }
   ],
   "source": [
    "#Search for a sequence that starts with \"he\", followed excactly 2 (any) characters, and an \"o\":\n",
    "\n",
    "x = re.findall('he.{2}o', txt)\n",
    "bool(x)"
   ]
  },
  {
   "cell_type": "code",
   "execution_count": 12,
   "id": "277771d0-3a7d-4a78-9361-cdacbcf48209",
   "metadata": {},
   "outputs": [
    {
     "data": {
      "text/plain": [
       "True"
      ]
     },
     "execution_count": 12,
     "metadata": {},
     "output_type": "execute_result"
    }
   ],
   "source": [
    "txt = \"The rain in Spain falls mainly in the plain!\"\n",
    "\n",
    "#Check if the string contains either \"falls\" or \"stays\":\n",
    "\n",
    "x =  re.findall('falls|stays', txt)\n",
    "bool(x)"
   ]
  },
  {
   "cell_type": "markdown",
   "id": "c3807972-9c05-49c0-be5c-88e23366a65d",
   "metadata": {},
   "source": [
    "## Special sequences."
   ]
  },
  {
   "cell_type": "markdown",
   "id": "319c5a49-e6c8-4251-9f4e-98cde57d0442",
   "metadata": {},
   "source": [
    "<table>\n",
    "  <thead>\n",
    "    <tr>\n",
    "      <th>Character</th>\n",
    "      <th>Description</th>\n",
    "    </tr>\n",
    "  </thead>\n",
    "  <tbody>\n",
    "    <tr>\n",
    "      <td>\\A</td>\n",
    "      <td>Returns a match if the specified characters are at the beginning of the string</td>\n",
    "    </tr>\n",
    "    <tr>\n",
    "      <td>\\b</td>\n",
    "      <td>Returns a match where the specifiend characters are at the beginning or at the end of a word</td>\n",
    "    </tr>\n",
    "    <tr>\n",
    "      <td>\\B</td>\n",
    "      <td>NOT of \\b</td>\n",
    "    </tr>\n",
    "    <tr>\n",
    "      <td>\\d</td>\n",
    "      <td>Returns a match where the string contains digits (0-9)</td>\n",
    "    </tr>\n",
    "    <tr>\n",
    "      <td>\\D</td>\n",
    "      <td>NOT of \\d</td>\n",
    "    </tr>  \n",
    "    <tr>\n",
    "      <td>\\s</td>\n",
    "      <td>Returns a match where the string contains a white space character.</td>\n",
    "    </tr>\n",
    "    <tr>\n",
    "      <td>\\S</td>\n",
    "      <td>NOT of \\s</td>\n",
    "    </tr>\n",
    "    <tr>\n",
    "      <td>\\w</td>\n",
    "      <td>Returns a match where the string contains any word character(a to Z, 0-9, _)</td>\n",
    "    </tr>\n",
    "    <tr>\n",
    "      <td>\\W</td>\n",
    "      <td>NOT of \\w</td>\n",
    "    </tr>\n",
    "    <tr>\n",
    "      <td>\\Z</td>\n",
    "      <td>Returns a match if the specified characters are at the end of the string</td>\n",
    "    </tr>\n",
    "  </tbody>\n",
    "</table>"
   ]
  },
  {
   "cell_type": "code",
   "execution_count": 13,
   "id": "ed0b2f64-67d6-4e85-b77f-141bf6852b40",
   "metadata": {},
   "outputs": [
    {
     "data": {
      "text/plain": [
       "True"
      ]
     },
     "execution_count": 13,
     "metadata": {},
     "output_type": "execute_result"
    }
   ],
   "source": [
    "txt = \"The rain in Spain\"\n",
    "\n",
    "#Check if the string starts with \"The\":\n",
    "\n",
    "x = re.findall('\\AThe', txt)\n",
    "bool(x)"
   ]
  },
  {
   "cell_type": "code",
   "execution_count": 14,
   "id": "8965bd52-c84f-40da-83eb-98ec0226f554",
   "metadata": {},
   "outputs": [
    {
     "data": {
      "text/plain": [
       "False"
      ]
     },
     "execution_count": 14,
     "metadata": {},
     "output_type": "execute_result"
    }
   ],
   "source": [
    "#Check if \"ain\" is present at the beginning of a WORD:\n",
    "\n",
    "x = re.findall(r'\\bain', txt)\n",
    "bool(x\n",
    "    )"
   ]
  },
  {
   "cell_type": "code",
   "execution_count": 15,
   "id": "21284196-4531-4912-841e-82c187939493",
   "metadata": {},
   "outputs": [
    {
     "data": {
      "text/plain": [
       "['ain', 'ain']"
      ]
     },
     "execution_count": 15,
     "metadata": {},
     "output_type": "execute_result"
    }
   ],
   "source": [
    "#Check if \"ain\" is present at the end of a WORD:\n",
    "\n",
    "x = re.findall(r'ain\\b', txt)\n",
    "x"
   ]
  },
  {
   "cell_type": "code",
   "execution_count": 16,
   "id": "89cfe696-4ebc-42d9-87c1-4661a1d73f55",
   "metadata": {},
   "outputs": [
    {
     "data": {
      "text/plain": [
       "False"
      ]
     },
     "execution_count": 16,
     "metadata": {},
     "output_type": "execute_result"
    }
   ],
   "source": [
    "#Check if the string contains any digits (numbers from 0-9):\n",
    "\n",
    "x = re.findall('\\d',txt)\n",
    "bool(x\n",
    "    )"
   ]
  },
  {
   "cell_type": "code",
   "execution_count": 17,
   "id": "4159de09-9367-4d38-9540-e06c21df47d7",
   "metadata": {},
   "outputs": [
    {
     "data": {
      "text/plain": [
       "True"
      ]
     },
     "execution_count": 17,
     "metadata": {},
     "output_type": "execute_result"
    }
   ],
   "source": [
    "#Check if the string contains any white space character:\n",
    "\n",
    "x = re.findall('\\s', txt)\n",
    "bool(x\n",
    "    )"
   ]
  },
  {
   "cell_type": "markdown",
   "id": "34bb2ef5-16c3-4c3b-9d2e-0365754c47b5",
   "metadata": {},
   "source": [
    "## Sets"
   ]
  },
  {
   "cell_type": "markdown",
   "id": "5f43f096-13af-478b-b490-0b4622317fd8",
   "metadata": {},
   "source": [
    "<table>\n",
    "  <thead>\n",
    "    <tr>\n",
    "      <th>Character</th>\n",
    "      <th>Description</th>\n",
    "    </tr>\n",
    "  </thead>\n",
    "  <tbody>\n",
    "    <tr>\n",
    "      <td>[arn]</td>\n",
    "      <td>Returns a match hwere one of the specifiend characters is present</td>\n",
    "    </tr>\n",
    "    <tr>\n",
    "      <td>[a-n]</td>\n",
    "      <td>Returns a match for any lower case character between a and n</td>\n",
    "    </tr>\n",
    "    <tr>\n",
    "      <td>[^arn]</td>\n",
    "      <td>EXCEPT a, r and n</td>\n",
    "    </tr>\n",
    "    <tr>\n",
    "      <td>[0123]</td>\n",
    "      <td>Returns a match where any specifiend digits are present</td>\n",
    "    </tr>\n",
    "    <tr>\n",
    "      <td>[0-9]</td>\n",
    "      <td>Returns a match for any digits between 0 and 9</td>\n",
    "    </tr> \n",
    "    <tr>\n",
    "      <td>[0-5][0-9]</td>\n",
    "      <td>Returns a match for any two-digit numbers between 00 and 59</td>\n",
    "    </tr>\n",
    "    <tr>\n",
    "      <td>[a-zA-Z]</td>\n",
    "      <td>Returns a match for any character alphabetically between a and z, lower or upper case</td>\n",
    "    </tr>\n",
    "    <tr>\n",
    "      <td>[+]</td>\n",
    "      <td>Return a match for any + character in the string</td>\n",
    "    </tr>\n",
    "  </tbody>\n",
    "</table>"
   ]
  },
  {
   "cell_type": "code",
   "execution_count": 19,
   "id": "84c15115-d84c-477c-b3c2-35bde3d73e53",
   "metadata": {},
   "outputs": [
    {
     "name": "stdout",
     "output_type": "stream",
     "text": [
      "['r', 'a', 'n', 'n', 'a', 'n']\n"
     ]
    },
    {
     "data": {
      "text/plain": [
       "Counter({'r': 1, 'a': 2, 'n': 3})"
      ]
     },
     "execution_count": 19,
     "metadata": {},
     "output_type": "execute_result"
    }
   ],
   "source": [
    "from collections import Counter\n",
    "txt = \"The rain in Spain\"\n",
    "\n",
    "#Check if the string has any a, r, or n characters:\n",
    "\n",
    "x = re.findall('[arn]', txt)\n",
    "print(x)\n",
    "Counter(x)"
   ]
  },
  {
   "cell_type": "code",
   "execution_count": 20,
   "id": "fc7b62db-2886-42fe-ad9f-b84212088e41",
   "metadata": {},
   "outputs": [
    {
     "data": {
      "text/plain": [
       "['11', '45']"
      ]
     },
     "execution_count": 20,
     "metadata": {},
     "output_type": "execute_result"
    }
   ],
   "source": [
    "txt = \"8 times before 11:45 AM\"\n",
    "\n",
    "#Check if the string has any two-digit numbers, from 00 to 59:\n",
    "\n",
    "x = re.findall('[0-5][0-9]', txt)\n",
    "x"
   ]
  },
  {
   "cell_type": "markdown",
   "id": "5bc74cfd-277d-47e7-b4b6-a603a6cd4938",
   "metadata": {},
   "source": [
    "## The findall() finction.\n",
    "\n",
    "`findall()` function returns a list containing all matches."
   ]
  },
  {
   "cell_type": "code",
   "execution_count": 21,
   "id": "26dd4cf0-7ec7-4e2c-a3e5-6e0e30e9e98e",
   "metadata": {},
   "outputs": [
    {
     "name": "stdout",
     "output_type": "stream",
     "text": [
      "['ai', 'ai']\n"
     ]
    }
   ],
   "source": [
    "txt = \"The rain in Spain\"\n",
    "x = re.findall(\"ai\", txt)\n",
    "print(x)"
   ]
  },
  {
   "cell_type": "markdown",
   "id": "ee986ba8-8b8b-4755-9641-0add619b7abf",
   "metadata": {},
   "source": [
    "The list contains the matches in the order they are found.</b>\n",
    "\n",
    "If no matcher are found, an empty list is returned."
   ]
  },
  {
   "cell_type": "markdown",
   "id": "dfa6e7c2-9371-4448-a4e4-860ce01ed02f",
   "metadata": {},
   "source": [
    "## The search() function\n",
    "\n",
    "The `search()` function searches the string for a match, and returns a `Match object` if there is a match.</br>\n",
    "If there are more than one match, only the first occurance of the match will be returned."
   ]
  },
  {
   "cell_type": "code",
   "execution_count": 22,
   "id": "5147b563-e207-4e69-a3a5-8752ae3be3eb",
   "metadata": {},
   "outputs": [
    {
     "name": "stdout",
     "output_type": "stream",
     "text": [
      "The first white space charatcer is located in position: 3\n"
     ]
    }
   ],
   "source": [
    "x= re.search('\\s', txt)\n",
    "\n",
    "print(\"The first white space charatcer is located in position:\",x.start())"
   ]
  },
  {
   "cell_type": "code",
   "execution_count": 23,
   "id": "eb505a73-252a-4b7b-bc43-e42bbc40b7cb",
   "metadata": {},
   "outputs": [
    {
     "data": {
      "text/plain": [
       "<re.Match object; span=(3, 4), match=' '>"
      ]
     },
     "execution_count": 23,
     "metadata": {},
     "output_type": "execute_result"
    }
   ],
   "source": [
    "x"
   ]
  },
  {
   "cell_type": "markdown",
   "id": "65b13963-ee9f-4744-be7f-d6bb7046bab7",
   "metadata": {},
   "source": [
    "### Match object\n",
    "\n",
    "A match object is an object containing information about the search and the result. </b>\n",
    "If there is no match, the value None will be returned, instead of Match Object."
   ]
  },
  {
   "cell_type": "code",
   "execution_count": 24,
   "id": "435a3a80-27d6-4de8-b640-61c74e64cd8a",
   "metadata": {},
   "outputs": [
    {
     "name": "stdout",
     "output_type": "stream",
     "text": [
      "<re.Match object; span=(3, 4), match=' '>\n"
     ]
    }
   ],
   "source": [
    "print(x)"
   ]
  },
  {
   "cell_type": "code",
   "execution_count": 25,
   "id": "b7e65243-79fe-4814-b635-34e4362bbd15",
   "metadata": {},
   "outputs": [
    {
     "data": {
      "text/plain": [
       "'The rain in Spain'"
      ]
     },
     "execution_count": 25,
     "metadata": {},
     "output_type": "execute_result"
    }
   ],
   "source": [
    "x.string"
   ]
  },
  {
   "cell_type": "code",
   "execution_count": 26,
   "id": "d54ba757-e824-462a-b04e-77504a3faa0e",
   "metadata": {},
   "outputs": [
    {
     "data": {
      "text/plain": [
       "' '"
      ]
     },
     "execution_count": 26,
     "metadata": {},
     "output_type": "execute_result"
    }
   ],
   "source": [
    "x.group()"
   ]
  },
  {
   "cell_type": "code",
   "execution_count": 27,
   "id": "cf001a91-8ff2-4e95-bb30-8efe835971a8",
   "metadata": {},
   "outputs": [
    {
     "data": {
      "text/plain": [
       "(3, 4)"
      ]
     },
     "execution_count": 27,
     "metadata": {},
     "output_type": "execute_result"
    }
   ],
   "source": [
    "x.span()"
   ]
  },
  {
   "cell_type": "code",
   "execution_count": 28,
   "id": "c08cde16-5446-4771-8ebe-74b4ec67d2fc",
   "metadata": {},
   "outputs": [
    {
     "data": {
      "text/plain": [
       "3"
      ]
     },
     "execution_count": 28,
     "metadata": {},
     "output_type": "execute_result"
    }
   ],
   "source": [
    "x.start()"
   ]
  },
  {
   "cell_type": "code",
   "execution_count": 29,
   "id": "50010849-7bf3-4a4f-897c-76e363a80161",
   "metadata": {},
   "outputs": [
    {
     "data": {
      "text/plain": [
       "4"
      ]
     },
     "execution_count": 29,
     "metadata": {},
     "output_type": "execute_result"
    }
   ],
   "source": [
    "x.end()"
   ]
  },
  {
   "cell_type": "markdown",
   "id": "dd72f6f4-c485-4c74-94db-9533e1ae2716",
   "metadata": {},
   "source": [
    "## The split() Function\n",
    "\n",
    "The split() function returns a list where the string has been split at each match:"
   ]
  },
  {
   "cell_type": "code",
   "execution_count": 30,
   "id": "e5387fc5-3af4-4a4e-8d63-8926bebf6cb8",
   "metadata": {},
   "outputs": [
    {
     "data": {
      "text/plain": [
       "['The', 'rain', 'in', 'Spain']"
      ]
     },
     "execution_count": 30,
     "metadata": {},
     "output_type": "execute_result"
    }
   ],
   "source": [
    "x = re.split('\\s', txt)\n",
    "x"
   ]
  },
  {
   "cell_type": "code",
   "execution_count": 31,
   "id": "b05e97f8-d0b9-40f8-b39c-f4d6288033ae",
   "metadata": {},
   "outputs": [
    {
     "data": {
      "text/plain": [
       "['The', 'rain in Spain']"
      ]
     },
     "execution_count": 31,
     "metadata": {},
     "output_type": "execute_result"
    }
   ],
   "source": [
    "x = re.split('\\s', txt, maxsplit=1)\n",
    "x"
   ]
  },
  {
   "cell_type": "markdown",
   "id": "c431e303-5dcd-42e6-9f16-5cd04f5c7361",
   "metadata": {},
   "source": [
    "## The sub() Function\n",
    "\n",
    "The sub() function replaces the matches with the text of choice."
   ]
  },
  {
   "cell_type": "code",
   "execution_count": 32,
   "id": "0390f120-8ee6-4511-a4b9-2426401e2c58",
   "metadata": {},
   "outputs": [
    {
     "data": {
      "text/plain": [
       "'The_rain_in_Spain'"
      ]
     },
     "execution_count": 32,
     "metadata": {},
     "output_type": "execute_result"
    }
   ],
   "source": [
    "x =  re.sub('\\s','_', txt)\n",
    "x"
   ]
  }
 ],
 "metadata": {
  "kernelspec": {
   "display_name": "Python 3 (ipykernel)",
   "language": "python",
   "name": "python3"
  },
  "language_info": {
   "codemirror_mode": {
    "name": "ipython",
    "version": 3
   },
   "file_extension": ".py",
   "mimetype": "text/x-python",
   "name": "python",
   "nbconvert_exporter": "python",
   "pygments_lexer": "ipython3",
   "version": "3.9.12"
  }
 },
 "nbformat": 4,
 "nbformat_minor": 5
}
