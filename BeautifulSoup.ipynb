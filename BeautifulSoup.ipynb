{
 "cells": [
  {
   "cell_type": "markdown",
   "id": "ddef165e-6476-4c65-bea2-b2fa11ab1370",
   "metadata": {},
   "source": [
    "# Introduction to BeautifulSoup and requests"
   ]
  },
  {
   "cell_type": "code",
   "execution_count": 6,
   "id": "12dd9c23-6a95-4419-9654-dbbcaedb9d8d",
   "metadata": {},
   "outputs": [],
   "source": [
    "import requests\n",
    "from bs4 import BeautifulSoup"
   ]
  },
  {
   "cell_type": "markdown",
   "id": "befdd6a6-91ac-4f36-9e4b-fc594fc32db1",
   "metadata": {},
   "source": [
    "`requests.get(website)` -  is used to access a perticular website provided as an argument.<br>\n",
    "`verify=False` forces the method to not verify the SSL certificate."
   ]
  },
  {
   "cell_type": "markdown",
   "id": "ba56f2a4-26fa-40d4-9d5c-ed0ff4743735",
   "metadata": {},
   "source": [
    "`.status_code` attribute of the `.get()` instance, returns the HTTP status code of the request.<br>\n",
    "200 means OK.<br>\n",
    "404 means Not Found."
   ]
  },
  {
   "cell_type": "code",
   "execution_count": 8,
   "id": "7163571f-7459-4475-a102-4b4246a8d6ac",
   "metadata": {},
   "outputs": [
    {
     "name": "stderr",
     "output_type": "stream",
     "text": [
      "D:\\Users\\20036294\\Anaconda3\\lib\\site-packages\\urllib3\\connectionpool.py:1043: InsecureRequestWarning: Unverified HTTPS request is being made to host 'www.google.com'. Adding certificate verification is strongly advised. See: https://urllib3.readthedocs.io/en/1.26.x/advanced-usage.html#ssl-warnings\n",
      "  warnings.warn(\n"
     ]
    },
    {
     "name": "stdout",
     "output_type": "stream",
     "text": [
      "200\n"
     ]
    }
   ],
   "source": [
    "result = requests.get(\"https://www.google.com/\", verify=False)\n",
    "print(result.status_code)"
   ]
  },
  {
   "cell_type": "markdown",
   "id": "c8f85209-163e-49a3-90d4-e161121b4b1c",
   "metadata": {},
   "source": [
    "`.header` attribute of the `.get()` instance returns the HTTP header of the website being accesses."
   ]
  },
  {
   "cell_type": "code",
   "execution_count": 10,
   "id": "f282d87b-3063-4772-9178-03bb7f2b2d20",
   "metadata": {},
   "outputs": [
    {
     "name": "stdout",
     "output_type": "stream",
     "text": [
      "{'Date': 'Mon, 05 Sep 2022 06:05:06 GMT', 'Expires': '-1', 'Cache-Control': 'private, max-age=0', 'Content-Type': 'text/html; charset=ISO-8859-1', 'P3P': 'CP=\"This is not a P3P policy! See g.co/p3phelp for more info.\"', 'Content-Encoding': 'gzip', 'Server': 'gws', 'X-XSS-Protection': '0', 'X-Frame-Options': 'SAMEORIGIN', 'Set-Cookie': '1P_JAR=2022-09-05-06; expires=Wed, 05-Oct-2022 06:05:06 GMT; path=/; domain=.google.com; Secure, AEC=AakniGNrAnzB8ns6ArXw5TipwYPppRnaOtY9VY0-8MsO-vA1uyFWl3pJsg; expires=Sat, 04-Mar-2023 06:05:06 GMT; path=/; domain=.google.com; Secure; HttpOnly; SameSite=lax, NID=511=RswgjlzNHVsbD_NdyXgzX2gv3kndQe9BQB3Ih7qM2Lvn3qopDCoEbZuUfjifUbKF05UcNmvktjL3X_2mk8Mt8wJCN5EZQ5691mTk0uxAdyWYt582sVG-7UlpaErbclFk-1yVIir8SRg9bbAQ-1B4A7t6RCoClPuJQFcBEOCngGM; expires=Tue, 07-Mar-2023 06:05:06 GMT; path=/; domain=.google.com; HttpOnly', 'Transfer-Encoding': 'chunked'}\n"
     ]
    }
   ],
   "source": [
    "print(result.headers)"
   ]
  },
  {
   "cell_type": "markdown",
   "id": "43b8ae21-79db-4d75-997d-ace13f608d8f",
   "metadata": {},
   "source": [
    "`.content` attribute returns the source of that page. Extract the content of that perticular page."
   ]
  },
  {
   "cell_type": "code",
   "execution_count": 11,
   "id": "ed983fd4-d134-46c2-88b1-97e7233106f2",
   "metadata": {},
   "outputs": [],
   "source": [
    "src =  result.content"
   ]
  },
  {
   "cell_type": "code",
   "execution_count": 12,
   "id": "d1b88b1a-8ecb-45c6-b673-37200547ea16",
   "metadata": {
    "collapsed": true,
    "jupyter": {
     "outputs_hidden": true
    },
    "tags": []
   },
   "outputs": [
    {
     "data": {
      "text/plain": [
       "b'<!doctype html><html itemscope=\"\" itemtype=\"http://schema.org/WebPage\" lang=\"en-IN\"><head><meta content=\"text/html; charset=UTF-8\" http-equiv=\"Content-Type\"><meta content=\"/images/branding/googleg/1x/googleg_standard_color_128dp.png\" itemprop=\"image\"><title>Google</title><script nonce=\"LXi2qQoHMmSpmoor9McBYg\">(function(){window.google={kEI:\\'kpEVY7f_J-bE5OUPns6K6Ag\\',kEXPI:\\'0,1302536,56873,6058,207,4804,2316,383,246,5,5367,1123753,1197787,614,380090,16114,17444,11238,1109,16465,4858,1362,9291,3021,17587,4998,13228,3847,10622,22741,5081,1593,1279,2742,149,1103,840,6297,109,3405,606,2023,1777,520,14670,3227,2845,7,5599,27619,552,1851,2614,13142,3,576,1014,1,5444,149,11323,2652,4,1528,2304,7039,22023,3050,2658,7357,13658,21223,5800,2557,4094,4052,3,3541,1,39047,2,3105,2,14022,2715,11401,11623,6700,2380,28741,4568,6253,23424,1252,5835,14968,4332,8,7476,445,2,2,1,26632,5665,2490,6582,799,2,14678,1290,872,9116,10518,7,1922,9779,24,6518,12588,1510,3782,6900,4832,5763,1210,8991,68,790,193,123,700,4,1,2,2,2,2,7091,1,1309,5515,88,612,508,5820,1647,1713,568,2210,1707,14,82,332,323,2,1218,2014,128,355,269,446,1622,1315,155,3,312,812,452,93,842,4,61,2575,227,643,227,760,285,422,1003,1055,2,43,50,71,352,313,2,4,317,756,20,2,3,1,17,134,246,93,46,251,626,514,519,343,1699,143,1310,1016,1509,1709,32,78,330,712,608,5350043,5101,702,8799320,3452,795,2,19733,1,1,346,1324,7,2,139,23949013,486,4041656,1964,3094,11203,2375,3406,5543,3358,16,674,490523,885229\\',kBL:\\'BR-G\\'};google.sn=\\'webhp\\';google.kHL=\\'en-IN\\';})();(function(){\\nvar f=this||self;var h,k=[];function l(a){for(var b;a&&(!a.getAttribute||!(b=a.getAttribute(\"eid\")));)a=a.parentNode;return b||h}function m(a){for(var b=null;a&&(!a.getAttribute||!(b=a.getAttribute(\"leid\")));)a=a.parentNode;return b}\\nfunction n(a,b,c,d,g){var e=\"\";c||-1!==b.search(\"&ei=\")||(e=\"&ei=\"+l(d),-1===b.search(\"&lei=\")&&(d=m(d))&&(e+=\"&lei=\"+d));d=\"\";!c&&f._cshid&&-1===b.search(\"&cshid=\")&&\"slh\"!==a&&(d=\"&cshid=\"+f._cshid);c=c||\"/\"+(g||\"gen_204\")+\"?atyp=i&ct=\"+a+\"&cad=\"+b+e+\"&zx=\"+Date.now()+d;/^http:/i.test(c)&&\"https:\"===window.location.protocol&&(google.ml&&google.ml(Error(\"a\"),!1,{src:c,glmm:1}),c=\"\");return c};h=google.kEI;google.getEI=l;google.getLEI=m;google.ml=function(){return null};google.log=function(a,b,c,d,g){if(c=n(a,b,c,d,g)){a=new Image;var e=k.length;k[e]=a;a.onerror=a.onload=a.onabort=function(){delete k[e]};a.src=c}};google.logUrl=n;}).call(this);(function(){\\ngoogle.y={};google.sy=[];google.x=function(a,b){if(a)var c=a.id;else{do c=Math.random();while(google.y[c])}google.y[c]=[a,b];return!1};google.sx=function(a){google.sy.push(a)};google.lm=[];google.plm=function(a){google.lm.push.apply(google.lm,a)};google.lq=[];google.load=function(a,b,c){google.lq.push([[a],b,c])};google.loadAll=function(a,b){google.lq.push([a,b])};google.bx=!1;google.lx=function(){};}).call(this);google.f={};(function(){\\ndocument.documentElement.addEventListener(\"submit\",function(b){var a;if(a=b.target){var c=a.getAttribute(\"data-submitfalse\");a=\"1\"===c||\"q\"===c&&!a.elements.q.value?!0:!1}else a=!1;a&&(b.preventDefault(),b.stopPropagation())},!0);document.documentElement.addEventListener(\"click\",function(b){var a;a:{for(a=b.target;a&&a!==document.documentElement;a=a.parentElement)if(\"A\"===a.tagName){a=\"1\"===a.getAttribute(\"data-nohref\");break a}a=!1}a&&b.preventDefault()},!0);}).call(this);</script><style>#gbar,#guser{font-size:13px;padding-top:1px !important;}#gbar{height:22px}#guser{padding-bottom:7px !important;text-align:right}.gbh,.gbd{border-top:1px solid #c9d7f1;font-size:1px}.gbh{height:0;position:absolute;top:24px;width:100%}@media all{.gb1{height:22px;margin-right:.5em;vertical-align:top}#gbar{float:left}}a.gb1,a.gb4{text-decoration:underline !important}a.gb1,a.gb4{color:#00c !important}.gbi .gb4{color:#dd8e27 !important}.gbf .gb4{color:#900 !important}\\n</style><style>body,td,a,p,.h{font-family:arial,sans-serif}body{margin:0;overflow-y:scroll}#gog{padding:3px 8px 0}td{line-height:.8em}.gac_m td{line-height:17px}form{margin-bottom:20px}.h{color:#1558d6}em{font-weight:bold;font-style:normal}.lst{height:25px;width:496px}.gsfi,.lst{font:18px arial,sans-serif}.gsfs{font:17px arial,sans-serif}.ds{display:inline-box;display:inline-block;margin:3px 0 4px;margin-left:4px}input{font-family:inherit}body{background:#fff;color:#000}a{color:#4b11a8;text-decoration:none}a:hover,a:active{text-decoration:underline}.fl a{color:#1558d6}a:visited{color:#4b11a8}.sblc{padding-top:5px}.sblc a{display:block;margin:2px 0;margin-left:13px;font-size:11px}.lsbb{background:#f8f9fa;border:solid 1px;border-color:#dadce0 #70757a #70757a #dadce0;height:30px}.lsbb{display:block}#WqQANb a{display:inline-block;margin:0 12px}.lsb{background:url(/images/nav_logo229.png) 0 -261px repeat-x;border:none;color:#000;cursor:pointer;height:30px;margin:0;outline:0;font:15px arial,sans-serif;vertical-align:top}.lsb:active{background:#dadce0}.lst:focus{outline:none}</style><script nonce=\"LXi2qQoHMmSpmoor9McBYg\">(function(){window.google.erd={jsr:1,bv:1648,de:true};\\nvar h=this||self;var k,l=null!=(k=h.mei)?k:1,n,p=null!=(n=h.sdo)?n:!0,q=0,r,t=google.erd,v=t.jsr;google.ml=function(a,b,d,m,e){e=void 0===e?2:e;b&&(r=a&&a.message);if(google.dl)return google.dl(a,e,d),null;if(0>v){window.console&&console.error(a,d);if(-2===v)throw a;b=!1}else b=!a||!a.message||\"Error loading script\"===a.message||q>=l&&!m?!1:!0;if(!b)return null;q++;d=d||{};b=encodeURIComponent;var c=\"/gen_204?atyp=i&ei=\"+b(google.kEI);google.kEXPI&&(c+=\"&jexpid=\"+b(google.kEXPI));c+=\"&srcpg=\"+b(google.sn)+\"&jsr=\"+b(t.jsr)+\"&bver=\"+b(t.bv);var f=a.lineNumber;void 0!==f&&(c+=\"&line=\"+f);var g=\\na.fileName;g&&(0<g.indexOf(\"-extension:/\")&&(e=3),c+=\"&script=\"+b(g),f&&g===window.location.href&&(f=document.documentElement.outerHTML.split(\"\\\\n\")[f],c+=\"&cad=\"+b(f?f.substring(0,300):\"No script found.\")));c+=\"&jsel=\"+e;for(var u in d)c+=\"&\",c+=b(u),c+=\"=\",c+=b(d[u]);c=c+\"&emsg=\"+b(a.name+\": \"+a.message);c=c+\"&jsst=\"+b(a.stack||\"N/A\");12288<=c.length&&(c=c.substr(0,12288));a=c;m||google.log(0,\"\",a);return a};window.onerror=function(a,b,d,m,e){r!==a&&(a=e instanceof Error?e:Error(a),void 0===d||\"lineNumber\"in a||(a.lineNumber=d),void 0===b||\"fileName\"in a||(a.fileName=b),google.ml(a,!1,void 0,!1,\"SyntaxError\"===a.name||\"SyntaxError\"===a.message.substring(0,11)||0<a.message.indexOf(\"Script error\")?2:0));r=null;p&&q>=l&&(window.onerror=null)};})();</script></head><body bgcolor=\"#fff\"><script nonce=\"LXi2qQoHMmSpmoor9McBYg\">(function(){var src=\\'/images/nav_logo229.png\\';var iesg=false;document.body.onload = function(){window.n && window.n();if (document.images){new Image().src=src;}\\nif (!iesg){document.f&&document.f.q.focus();document.gbqf&&document.gbqf.q.focus();}\\n}\\n})();</script><div id=\"mngb\"><div id=gbar><nobr><b class=gb1>Search</b> <a class=gb1 href=\"https://www.google.co.in/imghp?hl=en&tab=wi\">Images</a> <a class=gb1 href=\"https://maps.google.co.in/maps?hl=en&tab=wl\">Maps</a> <a class=gb1 href=\"https://play.google.com/?hl=en&tab=w8\">Play</a> <a class=gb1 href=\"https://www.youtube.com/?tab=w1\">YouTube</a> <a class=gb1 href=\"https://news.google.com/?tab=wn\">News</a> <a class=gb1 href=\"https://mail.google.com/mail/?tab=wm\">Gmail</a> <a class=gb1 href=\"https://drive.google.com/?tab=wo\">Drive</a> <a class=gb1 style=\"text-decoration:none\" href=\"https://www.google.co.in/intl/en/about/products?tab=wh\"><u>More</u> &raquo;</a></nobr></div><div id=guser width=100%><nobr><span id=gbn class=gbi></span><span id=gbf class=gbf></span><span id=gbe></span><a href=\"http://www.google.co.in/history/optout?hl=en\" class=gb4>Web History</a> | <a  href=\"/preferences?hl=en\" class=gb4>Settings</a> | <a target=_top id=gb_70 href=\"https://accounts.google.com/ServiceLogin?hl=en&passive=true&continue=https://www.google.com/&ec=GAZAAQ\" class=gb4>Sign in</a></nobr></div><div class=gbh style=left:0></div><div class=gbh style=right:0></div></div><center><br clear=\"all\" id=\"lgpd\"><div id=\"lga\"><img alt=\"Google\" height=\"92\" src=\"/images/branding/googlelogo/1x/googlelogo_white_background_color_272x92dp.png\" style=\"padding:28px 0 14px\" width=\"272\" id=\"hplogo\"><br><br></div><form action=\"/search\" name=\"f\"><table cellpadding=\"0\" cellspacing=\"0\"><tr valign=\"top\"><td width=\"25%\">&nbsp;</td><td align=\"center\" nowrap=\"\"><input name=\"ie\" value=\"ISO-8859-1\" type=\"hidden\"><input value=\"en-IN\" name=\"hl\" type=\"hidden\"><input name=\"source\" type=\"hidden\" value=\"hp\"><input name=\"biw\" type=\"hidden\"><input name=\"bih\" type=\"hidden\"><div class=\"ds\" style=\"height:32px;margin:4px 0\"><input class=\"lst\" style=\"margin:0;padding:5px 8px 0 6px;vertical-align:top;color:#000\" autocomplete=\"off\" value=\"\" title=\"Google Search\" maxlength=\"2048\" name=\"q\" size=\"57\"></div><br style=\"line-height:0\"><span class=\"ds\"><span class=\"lsbb\"><input class=\"lsb\" value=\"Google Search\" name=\"btnG\" type=\"submit\"></span></span><span class=\"ds\"><span class=\"lsbb\"><input class=\"lsb\" id=\"tsuid_1\" value=\"I\\'m Feeling Lucky\" name=\"btnI\" type=\"submit\"><script nonce=\"LXi2qQoHMmSpmoor9McBYg\">(function(){var id=\\'tsuid_1\\';document.getElementById(id).onclick = function(){if (this.form.q.value){this.checked = 1;if (this.form.iflsig)this.form.iflsig.disabled = false;}\\nelse top.location=\\'/doodles/\\';};})();</script><input value=\"AJiK0e8AAAAAYxWfopul27bQxXFw5TyccVkejb3LDPVx\" name=\"iflsig\" type=\"hidden\"></span></span></td><td class=\"fl sblc\" align=\"left\" nowrap=\"\" width=\"25%\"><a href=\"/advanced_search?hl=en-IN&amp;authuser=0\">Advanced search</a></td></tr></table><input id=\"gbv\" name=\"gbv\" type=\"hidden\" value=\"1\"><script nonce=\"LXi2qQoHMmSpmoor9McBYg\">(function(){\\nvar a,b=\"1\";if(document&&document.getElementById)if(\"undefined\"!=typeof XMLHttpRequest)b=\"2\";else if(\"undefined\"!=typeof ActiveXObject){var c,d,e=[\"MSXML2.XMLHTTP.6.0\",\"MSXML2.XMLHTTP.3.0\",\"MSXML2.XMLHTTP\",\"Microsoft.XMLHTTP\"];for(c=0;d=e[c++];)try{new ActiveXObject(d),b=\"2\"}catch(h){}}a=b;if(\"2\"==a&&-1==location.search.indexOf(\"&gbv=2\")){var f=google.gbvu,g=document.getElementById(\"gbv\");g&&(g.value=a);f&&window.setTimeout(function(){location.href=f},0)};}).call(this);</script></form><div id=\"gac_scont\"></div><div style=\"font-size:83%;min-height:3.5em\"><br><div id=\"prm\"><style>.szppmdbYutt__middle-slot-promo{font-size:small;margin-bottom:32px}.szppmdbYutt__middle-slot-promo a.ZIeIlb{display:inline-block;text-decoration:none}.szppmdbYutt__middle-slot-promo img{border:none;margin-right:5px;vertical-align:middle}</style><div class=\"szppmdbYutt__middle-slot-promo\" data-ved=\"0ahUKEwi3kJDk_fz5AhVmIrkGHR6nAo0QnIcBCAQ\"><img height=\"32\" src=\"https://www.google.com/images/hpp/blue-internaut-96X96.png\" width=\"32\"><a class=\"NKcBbd\" href=\"https://www.google.com/url?q=https://beinternetawesome.withgoogle.com/en_in/%3Futm_source%3Dgoogle%26utm_medium%3Dhpp%26utm_campaign%3Dbts2022&amp;source=hpp&amp;id=19031019&amp;ct=3&amp;usg=AOvVaw2zHZgNScDFvf5Hz_-9ei_z&amp;sa=X&amp;ved=0ahUKEwi3kJDk_fz5AhVmIrkGHR6nAo0Q8IcBCAU\" rel=\"nofollow\">Help your kids be safe and confident online with Be Internet Awesome</a></div></div><div id=\"gws-output-pages-elements-homepage_additional_languages__als\"><style>#gws-output-pages-elements-homepage_additional_languages__als{font-size:small;margin-bottom:24px}#SIvCob{color:#3c4043;display:inline-block;line-height:28px;}#SIvCob a{padding:0 3px;}.H6sW5{display:inline-block;margin:0 2px;white-space:nowrap}.z4hgWe{display:inline-block;margin:0 2px}</style><div id=\"SIvCob\">Google offered in:  <a href=\"https://www.google.com/setprefs?sig=0_8Ut2Bvn_X1UZp8KuotRUw9Zm2Zs%3D&amp;hl=hi&amp;source=homepage&amp;sa=X&amp;ved=0ahUKEwi3kJDk_fz5AhVmIrkGHR6nAo0Q2ZgBCAc\">&#2361;&#2367;&#2344;&#2381;&#2342;&#2368;</a>    <a href=\"https://www.google.com/setprefs?sig=0_8Ut2Bvn_X1UZp8KuotRUw9Zm2Zs%3D&amp;hl=bn&amp;source=homepage&amp;sa=X&amp;ved=0ahUKEwi3kJDk_fz5AhVmIrkGHR6nAo0Q2ZgBCAg\">&#2476;&#2494;&#2434;&#2482;&#2494;</a>    <a href=\"https://www.google.com/setprefs?sig=0_8Ut2Bvn_X1UZp8KuotRUw9Zm2Zs%3D&amp;hl=te&amp;source=homepage&amp;sa=X&amp;ved=0ahUKEwi3kJDk_fz5AhVmIrkGHR6nAo0Q2ZgBCAk\">&#3108;&#3142;&#3122;&#3137;&#3095;&#3137;</a>    <a href=\"https://www.google.com/setprefs?sig=0_8Ut2Bvn_X1UZp8KuotRUw9Zm2Zs%3D&amp;hl=mr&amp;source=homepage&amp;sa=X&amp;ved=0ahUKEwi3kJDk_fz5AhVmIrkGHR6nAo0Q2ZgBCAo\">&#2350;&#2352;&#2366;&#2336;&#2368;</a>    <a href=\"https://www.google.com/setprefs?sig=0_8Ut2Bvn_X1UZp8KuotRUw9Zm2Zs%3D&amp;hl=ta&amp;source=homepage&amp;sa=X&amp;ved=0ahUKEwi3kJDk_fz5AhVmIrkGHR6nAo0Q2ZgBCAs\">&#2980;&#2990;&#3007;&#2996;&#3021;</a>    <a href=\"https://www.google.com/setprefs?sig=0_8Ut2Bvn_X1UZp8KuotRUw9Zm2Zs%3D&amp;hl=gu&amp;source=homepage&amp;sa=X&amp;ved=0ahUKEwi3kJDk_fz5AhVmIrkGHR6nAo0Q2ZgBCAw\">&#2711;&#2753;&#2716;&#2736;&#2750;&#2724;&#2752;</a>    <a href=\"https://www.google.com/setprefs?sig=0_8Ut2Bvn_X1UZp8KuotRUw9Zm2Zs%3D&amp;hl=kn&amp;source=homepage&amp;sa=X&amp;ved=0ahUKEwi3kJDk_fz5AhVmIrkGHR6nAo0Q2ZgBCA0\">&#3221;&#3240;&#3277;&#3240;&#3233;</a>    <a href=\"https://www.google.com/setprefs?sig=0_8Ut2Bvn_X1UZp8KuotRUw9Zm2Zs%3D&amp;hl=ml&amp;source=homepage&amp;sa=X&amp;ved=0ahUKEwi3kJDk_fz5AhVmIrkGHR6nAo0Q2ZgBCA4\">&#3374;&#3378;&#3375;&#3390;&#3379;&#3330;</a>    <a href=\"https://www.google.com/setprefs?sig=0_8Ut2Bvn_X1UZp8KuotRUw9Zm2Zs%3D&amp;hl=pa&amp;source=homepage&amp;sa=X&amp;ved=0ahUKEwi3kJDk_fz5AhVmIrkGHR6nAo0Q2ZgBCA8\">&#2602;&#2672;&#2588;&#2622;&#2604;&#2624;</a>  </div></div></div><span id=\"footer\"><div style=\"font-size:10pt\"><div style=\"margin:19px auto;text-align:center\" id=\"WqQANb\"><a href=\"/intl/en/ads/\">Advertising\\xa0Programs</a><a href=\"http://www.google.co.in/services/\">Business Solutions</a><a href=\"/intl/en/about.html\">About Google</a><a href=\"https://www.google.com/setprefdomain?prefdom=IN&amp;prev=https://www.google.co.in/&amp;sig=K_E51AAHiv7pPYcwB3sEUACtpcenY%3D\">Google.co.in</a></div></div><p style=\"font-size:8pt;color:#70757a\">&copy; 2022 - <a href=\"/intl/en/policies/privacy/\">Privacy</a> - <a href=\"/intl/en/policies/terms/\">Terms</a></p></span></center><script nonce=\"LXi2qQoHMmSpmoor9McBYg\">(function(){window.google.cdo={height:757,width:1440};(function(){\\nvar a=window.innerWidth,b=window.innerHeight;if(!a||!b){var c=window.document,d=\"CSS1Compat\"==c.compatMode?c.documentElement:c.body;a=d.clientWidth;b=d.clientHeight}a&&b&&(a!=google.cdo.width||b!=google.cdo.height)&&google.log(\"\",\"\",\"/client_204?&atyp=i&biw=\"+a+\"&bih=\"+b+\"&ei=\"+google.kEI);}).call(this);})();</script> <script nonce=\"LXi2qQoHMmSpmoor9McBYg\">(function(){google.xjs={ck:\\'xjs.hp.nAt8mkHlvVw.L.X.O\\',cs:\\'ACT90oFH_LqnEE3o9N290A12WEZRcJalDA\\',excm:[]};})();</script>  <script nonce=\"LXi2qQoHMmSpmoor9McBYg\">(function(){var u=\\'/xjs/_/js/k\\\\x3dxjs.hp.en.M-3u9_jcs2A.O/am\\\\x3dAACeAAAkAEAB/d\\\\x3d1/ed\\\\x3d1/rs\\\\x3dACT90oEjw1swDRl5q0JI8WTMF0hipesscA/m\\\\x3dsb_he,d\\';\\nvar d=this||self,e=function(a){return a};\\nvar g;var l=function(a,b){this.g=b===h?a:\"\"};l.prototype.toString=function(){return this.g+\"\"};var h={};function n(){var a=u;google.lx=function(){p(a);google.lx=function(){}};google.bx||google.lx()}\\nfunction p(a){google.timers&&google.timers.load&&google.tick&&google.tick(\"load\",\"xjsls\");var b=document;var c=\"SCRIPT\";\"application/xhtml+xml\"===b.contentType&&(c=c.toLowerCase());c=b.createElement(c);if(void 0===g){b=null;var k=d.trustedTypes;if(k&&k.createPolicy){try{b=k.createPolicy(\"goog#html\",{createHTML:e,createScript:e,createScriptURL:e})}catch(q){d.console&&d.console.error(q.message)}g=b}else g=b}a=(b=g)?b.createScriptURL(a):a;a=new l(a,h);c.src=a instanceof l&&a.constructor===l?a.g:\"type_error:TrustedResourceUrl\";var f,m;(f=(a=null==(m=(f=(c.ownerDocument&&c.ownerDocument.defaultView||window).document).querySelector)?void 0:m.call(f,\"script[nonce]\"))?a.nonce||a.getAttribute(\"nonce\")||\"\":\"\")&&c.setAttribute(\"nonce\",f);document.body.appendChild(c);google.psa=!0};google.xjsu=u;setTimeout(function(){n()},0);})();function _DumpException(e){throw e;}\\nfunction _F_installCss(c){}\\n(function(){google.jl={blt:\\'none\\',chnk:0,dw:false,dwu:true,emtn:0,end:0,ine:false,injs:\\'none\\',injt:0,injth:0,injv2:false,lls:\\'default\\',pdt:0,rep:0,snet:true,strt:0,ubm:false,uwp:true};})();(function(){var pmc=\\'{\\\\x22d\\\\x22:{},\\\\x22sb_he\\\\x22:{\\\\x22agen\\\\x22:true,\\\\x22cgen\\\\x22:true,\\\\x22client\\\\x22:\\\\x22heirloom-hp\\\\x22,\\\\x22dh\\\\x22:true,\\\\x22dhqt\\\\x22:true,\\\\x22ds\\\\x22:\\\\x22\\\\x22,\\\\x22ffql\\\\x22:\\\\x22en\\\\x22,\\\\x22fl\\\\x22:true,\\\\x22host\\\\x22:\\\\x22google.com\\\\x22,\\\\x22isbh\\\\x22:28,\\\\x22jsonp\\\\x22:true,\\\\x22msgs\\\\x22:{\\\\x22cibl\\\\x22:\\\\x22Clear Search\\\\x22,\\\\x22dym\\\\x22:\\\\x22Did you mean:\\\\x22,\\\\x22lcky\\\\x22:\\\\x22I\\\\\\\\u0026#39;m Feeling Lucky\\\\x22,\\\\x22lml\\\\x22:\\\\x22Learn more\\\\x22,\\\\x22oskt\\\\x22:\\\\x22Input tools\\\\x22,\\\\x22psrc\\\\x22:\\\\x22This search was removed from your \\\\\\\\u003Ca href\\\\x3d\\\\\\\\\\\\x22/history\\\\\\\\\\\\x22\\\\\\\\u003EWeb History\\\\\\\\u003C/a\\\\\\\\u003E\\\\x22,\\\\x22psrl\\\\x22:\\\\x22Remove\\\\x22,\\\\x22sbit\\\\x22:\\\\x22Search by image\\\\x22,\\\\x22srch\\\\x22:\\\\x22Google Search\\\\x22},\\\\x22ovr\\\\x22:{},\\\\x22pq\\\\x22:\\\\x22\\\\x22,\\\\x22refpd\\\\x22:true,\\\\x22rfs\\\\x22:[],\\\\x22sbas\\\\x22:\\\\x220 3px 8px 0 rgba(0,0,0,0.2),0 0 0 1px rgba(0,0,0,0.08)\\\\x22,\\\\x22sbpl\\\\x22:16,\\\\x22sbpr\\\\x22:16,\\\\x22scd\\\\x22:10,\\\\x22stok\\\\x22:\\\\x22E6xIp_fsToLfZpy3ZDl9bYtb0RI\\\\x22,\\\\x22uhde\\\\x22:false}}\\';google.pmc=JSON.parse(pmc);})();</script>        </body></html>'"
      ]
     },
     "execution_count": 12,
     "metadata": {},
     "output_type": "execute_result"
    }
   ],
   "source": [
    "src"
   ]
  },
  {
   "cell_type": "markdown",
   "id": "73de6e64-de3f-48f5-8afb-38ecb3cb37fa",
   "metadata": {},
   "source": [
    "This returns the HTML content of the webpage. Now using BeautifulSoup to parse that and be able to use that info."
   ]
  },
  {
   "cell_type": "markdown",
   "id": "fe66d25a-3027-419a-abbc-11fa0ef90bfc",
   "metadata": {},
   "source": [
    "Now we pass the src object to the BeautifulSoup class, which creates a beautifulsoup object to parse and process the source. Extract certain type of info from src"
   ]
  },
  {
   "cell_type": "code",
   "execution_count": 13,
   "id": "a95717d0-b409-45e9-8c29-93b67770273f",
   "metadata": {},
   "outputs": [],
   "source": [
    "soup = BeautifulSoup(src, 'lxml')"
   ]
  },
  {
   "cell_type": "code",
   "execution_count": 17,
   "id": "2c2b9aff-b95f-4b7a-a0cd-37ce4735669a",
   "metadata": {
    "collapsed": true,
    "jupyter": {
     "outputs_hidden": true
    },
    "tags": []
   },
   "outputs": [
    {
     "name": "stdout",
     "output_type": "stream",
     "text": [
      "<!DOCTYPE html>\n",
      "<html itemscope=\"\" itemtype=\"http://schema.org/WebPage\" lang=\"en-IN\">\n",
      " <head>\n",
      "  <meta content=\"text/html; charset=utf-8\" http-equiv=\"Content-Type\"/>\n",
      "  <meta content=\"/images/branding/googleg/1x/googleg_standard_color_128dp.png\" itemprop=\"image\"/>\n",
      "  <title>\n",
      "   Google\n",
      "  </title>\n",
      "  <script nonce=\"LXi2qQoHMmSpmoor9McBYg\">\n",
      "   (function(){window.google={kEI:'kpEVY7f_J-bE5OUPns6K6Ag',kEXPI:'0,1302536,56873,6058,207,4804,2316,383,246,5,5367,1123753,1197787,614,380090,16114,17444,11238,1109,16465,4858,1362,9291,3021,17587,4998,13228,3847,10622,22741,5081,1593,1279,2742,149,1103,840,6297,109,3405,606,2023,1777,520,14670,3227,2845,7,5599,27619,552,1851,2614,13142,3,576,1014,1,5444,149,11323,2652,4,1528,2304,7039,22023,3050,2658,7357,13658,21223,5800,2557,4094,4052,3,3541,1,39047,2,3105,2,14022,2715,11401,11623,6700,2380,28741,4568,6253,23424,1252,5835,14968,4332,8,7476,445,2,2,1,26632,5665,2490,6582,799,2,14678,1290,872,9116,10518,7,1922,9779,24,6518,12588,1510,3782,6900,4832,5763,1210,8991,68,790,193,123,700,4,1,2,2,2,2,7091,1,1309,5515,88,612,508,5820,1647,1713,568,2210,1707,14,82,332,323,2,1218,2014,128,355,269,446,1622,1315,155,3,312,812,452,93,842,4,61,2575,227,643,227,760,285,422,1003,1055,2,43,50,71,352,313,2,4,317,756,20,2,3,1,17,134,246,93,46,251,626,514,519,343,1699,143,1310,1016,1509,1709,32,78,330,712,608,5350043,5101,702,8799320,3452,795,2,19733,1,1,346,1324,7,2,139,23949013,486,4041656,1964,3094,11203,2375,3406,5543,3358,16,674,490523,885229',kBL:'BR-G'};google.sn='webhp';google.kHL='en-IN';})();(function(){\n",
      "var f=this||self;var h,k=[];function l(a){for(var b;a&&(!a.getAttribute||!(b=a.getAttribute(\"eid\")));)a=a.parentNode;return b||h}function m(a){for(var b=null;a&&(!a.getAttribute||!(b=a.getAttribute(\"leid\")));)a=a.parentNode;return b}\n",
      "function n(a,b,c,d,g){var e=\"\";c||-1!==b.search(\"&ei=\")||(e=\"&ei=\"+l(d),-1===b.search(\"&lei=\")&&(d=m(d))&&(e+=\"&lei=\"+d));d=\"\";!c&&f._cshid&&-1===b.search(\"&cshid=\")&&\"slh\"!==a&&(d=\"&cshid=\"+f._cshid);c=c||\"/\"+(g||\"gen_204\")+\"?atyp=i&ct=\"+a+\"&cad=\"+b+e+\"&zx=\"+Date.now()+d;/^http:/i.test(c)&&\"https:\"===window.location.protocol&&(google.ml&&google.ml(Error(\"a\"),!1,{src:c,glmm:1}),c=\"\");return c};h=google.kEI;google.getEI=l;google.getLEI=m;google.ml=function(){return null};google.log=function(a,b,c,d,g){if(c=n(a,b,c,d,g)){a=new Image;var e=k.length;k[e]=a;a.onerror=a.onload=a.onabort=function(){delete k[e]};a.src=c}};google.logUrl=n;}).call(this);(function(){\n",
      "google.y={};google.sy=[];google.x=function(a,b){if(a)var c=a.id;else{do c=Math.random();while(google.y[c])}google.y[c]=[a,b];return!1};google.sx=function(a){google.sy.push(a)};google.lm=[];google.plm=function(a){google.lm.push.apply(google.lm,a)};google.lq=[];google.load=function(a,b,c){google.lq.push([[a],b,c])};google.loadAll=function(a,b){google.lq.push([a,b])};google.bx=!1;google.lx=function(){};}).call(this);google.f={};(function(){\n",
      "document.documentElement.addEventListener(\"submit\",function(b){var a;if(a=b.target){var c=a.getAttribute(\"data-submitfalse\");a=\"1\"===c||\"q\"===c&&!a.elements.q.value?!0:!1}else a=!1;a&&(b.preventDefault(),b.stopPropagation())},!0);document.documentElement.addEventListener(\"click\",function(b){var a;a:{for(a=b.target;a&&a!==document.documentElement;a=a.parentElement)if(\"A\"===a.tagName){a=\"1\"===a.getAttribute(\"data-nohref\");break a}a=!1}a&&b.preventDefault()},!0);}).call(this);\n",
      "  </script>\n",
      "  <style>\n",
      "   #gbar,#guser{font-size:13px;padding-top:1px !important;}#gbar{height:22px}#guser{padding-bottom:7px !important;text-align:right}.gbh,.gbd{border-top:1px solid #c9d7f1;font-size:1px}.gbh{height:0;position:absolute;top:24px;width:100%}@media all{.gb1{height:22px;margin-right:.5em;vertical-align:top}#gbar{float:left}}a.gb1,a.gb4{text-decoration:underline !important}a.gb1,a.gb4{color:#00c !important}.gbi .gb4{color:#dd8e27 !important}.gbf .gb4{color:#900 !important}\n",
      "  </style>\n",
      "  <style>\n",
      "   body,td,a,p,.h{font-family:arial,sans-serif}body{margin:0;overflow-y:scroll}#gog{padding:3px 8px 0}td{line-height:.8em}.gac_m td{line-height:17px}form{margin-bottom:20px}.h{color:#1558d6}em{font-weight:bold;font-style:normal}.lst{height:25px;width:496px}.gsfi,.lst{font:18px arial,sans-serif}.gsfs{font:17px arial,sans-serif}.ds{display:inline-box;display:inline-block;margin:3px 0 4px;margin-left:4px}input{font-family:inherit}body{background:#fff;color:#000}a{color:#4b11a8;text-decoration:none}a:hover,a:active{text-decoration:underline}.fl a{color:#1558d6}a:visited{color:#4b11a8}.sblc{padding-top:5px}.sblc a{display:block;margin:2px 0;margin-left:13px;font-size:11px}.lsbb{background:#f8f9fa;border:solid 1px;border-color:#dadce0 #70757a #70757a #dadce0;height:30px}.lsbb{display:block}#WqQANb a{display:inline-block;margin:0 12px}.lsb{background:url(/images/nav_logo229.png) 0 -261px repeat-x;border:none;color:#000;cursor:pointer;height:30px;margin:0;outline:0;font:15px arial,sans-serif;vertical-align:top}.lsb:active{background:#dadce0}.lst:focus{outline:none}\n",
      "  </style>\n",
      "  <script nonce=\"LXi2qQoHMmSpmoor9McBYg\">\n",
      "   (function(){window.google.erd={jsr:1,bv:1648,de:true};\n",
      "var h=this||self;var k,l=null!=(k=h.mei)?k:1,n,p=null!=(n=h.sdo)?n:!0,q=0,r,t=google.erd,v=t.jsr;google.ml=function(a,b,d,m,e){e=void 0===e?2:e;b&&(r=a&&a.message);if(google.dl)return google.dl(a,e,d),null;if(0>v){window.console&&console.error(a,d);if(-2===v)throw a;b=!1}else b=!a||!a.message||\"Error loading script\"===a.message||q>=l&&!m?!1:!0;if(!b)return null;q++;d=d||{};b=encodeURIComponent;var c=\"/gen_204?atyp=i&ei=\"+b(google.kEI);google.kEXPI&&(c+=\"&jexpid=\"+b(google.kEXPI));c+=\"&srcpg=\"+b(google.sn)+\"&jsr=\"+b(t.jsr)+\"&bver=\"+b(t.bv);var f=a.lineNumber;void 0!==f&&(c+=\"&line=\"+f);var g=\n",
      "a.fileName;g&&(0<g.indexOf(\"-extension:/\")&&(e=3),c+=\"&script=\"+b(g),f&&g===window.location.href&&(f=document.documentElement.outerHTML.split(\"\\n\")[f],c+=\"&cad=\"+b(f?f.substring(0,300):\"No script found.\")));c+=\"&jsel=\"+e;for(var u in d)c+=\"&\",c+=b(u),c+=\"=\",c+=b(d[u]);c=c+\"&emsg=\"+b(a.name+\": \"+a.message);c=c+\"&jsst=\"+b(a.stack||\"N/A\");12288<=c.length&&(c=c.substr(0,12288));a=c;m||google.log(0,\"\",a);return a};window.onerror=function(a,b,d,m,e){r!==a&&(a=e instanceof Error?e:Error(a),void 0===d||\"lineNumber\"in a||(a.lineNumber=d),void 0===b||\"fileName\"in a||(a.fileName=b),google.ml(a,!1,void 0,!1,\"SyntaxError\"===a.name||\"SyntaxError\"===a.message.substring(0,11)||0<a.message.indexOf(\"Script error\")?2:0));r=null;p&&q>=l&&(window.onerror=null)};})();\n",
      "  </script>\n",
      " </head>\n",
      " <body bgcolor=\"#fff\">\n",
      "  <script nonce=\"LXi2qQoHMmSpmoor9McBYg\">\n",
      "   (function(){var src='/images/nav_logo229.png';var iesg=false;document.body.onload = function(){window.n && window.n();if (document.images){new Image().src=src;}\n",
      "if (!iesg){document.f&&document.f.q.focus();document.gbqf&&document.gbqf.q.focus();}\n",
      "}\n",
      "})();\n",
      "  </script>\n",
      "  <div id=\"mngb\">\n",
      "   <div id=\"gbar\">\n",
      "    <nobr>\n",
      "     <b class=\"gb1\">\n",
      "      Search\n",
      "     </b>\n",
      "     <a class=\"gb1\" href=\"https://www.google.co.in/imghp?hl=en&amp;tab=wi\">\n",
      "      Images\n",
      "     </a>\n",
      "     <a class=\"gb1\" href=\"https://maps.google.co.in/maps?hl=en&amp;tab=wl\">\n",
      "      Maps\n",
      "     </a>\n",
      "     <a class=\"gb1\" href=\"https://play.google.com/?hl=en&amp;tab=w8\">\n",
      "      Play\n",
      "     </a>\n",
      "     <a class=\"gb1\" href=\"https://www.youtube.com/?tab=w1\">\n",
      "      YouTube\n",
      "     </a>\n",
      "     <a class=\"gb1\" href=\"https://news.google.com/?tab=wn\">\n",
      "      News\n",
      "     </a>\n",
      "     <a class=\"gb1\" href=\"https://mail.google.com/mail/?tab=wm\">\n",
      "      Gmail\n",
      "     </a>\n",
      "     <a class=\"gb1\" href=\"https://drive.google.com/?tab=wo\">\n",
      "      Drive\n",
      "     </a>\n",
      "     <a class=\"gb1\" href=\"https://www.google.co.in/intl/en/about/products?tab=wh\" style=\"text-decoration:none\">\n",
      "      <u>\n",
      "       More\n",
      "      </u>\n",
      "      »\n",
      "     </a>\n",
      "    </nobr>\n",
      "   </div>\n",
      "   <div id=\"guser\" width=\"100%\">\n",
      "    <nobr>\n",
      "     <span class=\"gbi\" id=\"gbn\">\n",
      "     </span>\n",
      "     <span class=\"gbf\" id=\"gbf\">\n",
      "     </span>\n",
      "     <span id=\"gbe\">\n",
      "     </span>\n",
      "     <a class=\"gb4\" href=\"http://www.google.co.in/history/optout?hl=en\">\n",
      "      Web History\n",
      "     </a>\n",
      "     |\n",
      "     <a class=\"gb4\" href=\"/preferences?hl=en\">\n",
      "      Settings\n",
      "     </a>\n",
      "     |\n",
      "     <a class=\"gb4\" href=\"https://accounts.google.com/ServiceLogin?hl=en&amp;passive=true&amp;continue=https://www.google.com/&amp;ec=GAZAAQ\" id=\"gb_70\" target=\"_top\">\n",
      "      Sign in\n",
      "     </a>\n",
      "    </nobr>\n",
      "   </div>\n",
      "   <div class=\"gbh\" style=\"left:0\">\n",
      "   </div>\n",
      "   <div class=\"gbh\" style=\"right:0\">\n",
      "   </div>\n",
      "  </div>\n",
      "  <center>\n",
      "   <br clear=\"all\" id=\"lgpd\"/>\n",
      "   <div id=\"lga\">\n",
      "    <img alt=\"Google\" height=\"92\" id=\"hplogo\" src=\"/images/branding/googlelogo/1x/googlelogo_white_background_color_272x92dp.png\" style=\"padding:28px 0 14px\" width=\"272\"/>\n",
      "    <br/>\n",
      "    <br/>\n",
      "   </div>\n",
      "   <form action=\"/search\" name=\"f\">\n",
      "    <table cellpadding=\"0\" cellspacing=\"0\">\n",
      "     <tr valign=\"top\">\n",
      "      <td width=\"25%\">\n",
      "      </td>\n",
      "      <td align=\"center\" nowrap=\"\">\n",
      "       <input name=\"ie\" type=\"hidden\" value=\"ISO-8859-1\"/>\n",
      "       <input name=\"hl\" type=\"hidden\" value=\"en-IN\"/>\n",
      "       <input name=\"source\" type=\"hidden\" value=\"hp\"/>\n",
      "       <input name=\"biw\" type=\"hidden\"/>\n",
      "       <input name=\"bih\" type=\"hidden\"/>\n",
      "       <div class=\"ds\" style=\"height:32px;margin:4px 0\">\n",
      "        <input autocomplete=\"off\" class=\"lst\" maxlength=\"2048\" name=\"q\" size=\"57\" style=\"margin:0;padding:5px 8px 0 6px;vertical-align:top;color:#000\" title=\"Google Search\" value=\"\"/>\n",
      "       </div>\n",
      "       <br style=\"line-height:0\"/>\n",
      "       <span class=\"ds\">\n",
      "        <span class=\"lsbb\">\n",
      "         <input class=\"lsb\" name=\"btnG\" type=\"submit\" value=\"Google Search\"/>\n",
      "        </span>\n",
      "       </span>\n",
      "       <span class=\"ds\">\n",
      "        <span class=\"lsbb\">\n",
      "         <input class=\"lsb\" id=\"tsuid_1\" name=\"btnI\" type=\"submit\" value=\"I'm Feeling Lucky\"/>\n",
      "         <script nonce=\"LXi2qQoHMmSpmoor9McBYg\">\n",
      "          (function(){var id='tsuid_1';document.getElementById(id).onclick = function(){if (this.form.q.value){this.checked = 1;if (this.form.iflsig)this.form.iflsig.disabled = false;}\n",
      "else top.location='/doodles/';};})();\n",
      "         </script>\n",
      "         <input name=\"iflsig\" type=\"hidden\" value=\"AJiK0e8AAAAAYxWfopul27bQxXFw5TyccVkejb3LDPVx\"/>\n",
      "        </span>\n",
      "       </span>\n",
      "      </td>\n",
      "      <td align=\"left\" class=\"fl sblc\" nowrap=\"\" width=\"25%\">\n",
      "       <a href=\"/advanced_search?hl=en-IN&amp;authuser=0\">\n",
      "        Advanced search\n",
      "       </a>\n",
      "      </td>\n",
      "     </tr>\n",
      "    </table>\n",
      "    <input id=\"gbv\" name=\"gbv\" type=\"hidden\" value=\"1\"/>\n",
      "    <script nonce=\"LXi2qQoHMmSpmoor9McBYg\">\n",
      "     (function(){\n",
      "var a,b=\"1\";if(document&&document.getElementById)if(\"undefined\"!=typeof XMLHttpRequest)b=\"2\";else if(\"undefined\"!=typeof ActiveXObject){var c,d,e=[\"MSXML2.XMLHTTP.6.0\",\"MSXML2.XMLHTTP.3.0\",\"MSXML2.XMLHTTP\",\"Microsoft.XMLHTTP\"];for(c=0;d=e[c++];)try{new ActiveXObject(d),b=\"2\"}catch(h){}}a=b;if(\"2\"==a&&-1==location.search.indexOf(\"&gbv=2\")){var f=google.gbvu,g=document.getElementById(\"gbv\");g&&(g.value=a);f&&window.setTimeout(function(){location.href=f},0)};}).call(this);\n",
      "    </script>\n",
      "   </form>\n",
      "   <div id=\"gac_scont\">\n",
      "   </div>\n",
      "   <div style=\"font-size:83%;min-height:3.5em\">\n",
      "    <br/>\n",
      "    <div id=\"prm\">\n",
      "     <style>\n",
      "      .szppmdbYutt__middle-slot-promo{font-size:small;margin-bottom:32px}.szppmdbYutt__middle-slot-promo a.ZIeIlb{display:inline-block;text-decoration:none}.szppmdbYutt__middle-slot-promo img{border:none;margin-right:5px;vertical-align:middle}\n",
      "     </style>\n",
      "     <div class=\"szppmdbYutt__middle-slot-promo\" data-ved=\"0ahUKEwi3kJDk_fz5AhVmIrkGHR6nAo0QnIcBCAQ\">\n",
      "      <img height=\"32\" src=\"https://www.google.com/images/hpp/blue-internaut-96X96.png\" width=\"32\"/>\n",
      "      <a class=\"NKcBbd\" href=\"https://www.google.com/url?q=https://beinternetawesome.withgoogle.com/en_in/%3Futm_source%3Dgoogle%26utm_medium%3Dhpp%26utm_campaign%3Dbts2022&amp;source=hpp&amp;id=19031019&amp;ct=3&amp;usg=AOvVaw2zHZgNScDFvf5Hz_-9ei_z&amp;sa=X&amp;ved=0ahUKEwi3kJDk_fz5AhVmIrkGHR6nAo0Q8IcBCAU\" rel=\"nofollow\">\n",
      "       Help your kids be safe and confident online with Be Internet Awesome\n",
      "      </a>\n",
      "     </div>\n",
      "    </div>\n",
      "    <div id=\"gws-output-pages-elements-homepage_additional_languages__als\">\n",
      "     <style>\n",
      "      #gws-output-pages-elements-homepage_additional_languages__als{font-size:small;margin-bottom:24px}#SIvCob{color:#3c4043;display:inline-block;line-height:28px;}#SIvCob a{padding:0 3px;}.H6sW5{display:inline-block;margin:0 2px;white-space:nowrap}.z4hgWe{display:inline-block;margin:0 2px}\n",
      "     </style>\n",
      "     <div id=\"SIvCob\">\n",
      "      Google offered in:\n",
      "      <a href=\"https://www.google.com/setprefs?sig=0_8Ut2Bvn_X1UZp8KuotRUw9Zm2Zs%3D&amp;hl=hi&amp;source=homepage&amp;sa=X&amp;ved=0ahUKEwi3kJDk_fz5AhVmIrkGHR6nAo0Q2ZgBCAc\">\n",
      "       हिन्दी\n",
      "      </a>\n",
      "      <a href=\"https://www.google.com/setprefs?sig=0_8Ut2Bvn_X1UZp8KuotRUw9Zm2Zs%3D&amp;hl=bn&amp;source=homepage&amp;sa=X&amp;ved=0ahUKEwi3kJDk_fz5AhVmIrkGHR6nAo0Q2ZgBCAg\">\n",
      "       বাংলা\n",
      "      </a>\n",
      "      <a href=\"https://www.google.com/setprefs?sig=0_8Ut2Bvn_X1UZp8KuotRUw9Zm2Zs%3D&amp;hl=te&amp;source=homepage&amp;sa=X&amp;ved=0ahUKEwi3kJDk_fz5AhVmIrkGHR6nAo0Q2ZgBCAk\">\n",
      "       తెలుగు\n",
      "      </a>\n",
      "      <a href=\"https://www.google.com/setprefs?sig=0_8Ut2Bvn_X1UZp8KuotRUw9Zm2Zs%3D&amp;hl=mr&amp;source=homepage&amp;sa=X&amp;ved=0ahUKEwi3kJDk_fz5AhVmIrkGHR6nAo0Q2ZgBCAo\">\n",
      "       मराठी\n",
      "      </a>\n",
      "      <a href=\"https://www.google.com/setprefs?sig=0_8Ut2Bvn_X1UZp8KuotRUw9Zm2Zs%3D&amp;hl=ta&amp;source=homepage&amp;sa=X&amp;ved=0ahUKEwi3kJDk_fz5AhVmIrkGHR6nAo0Q2ZgBCAs\">\n",
      "       தமிழ்\n",
      "      </a>\n",
      "      <a href=\"https://www.google.com/setprefs?sig=0_8Ut2Bvn_X1UZp8KuotRUw9Zm2Zs%3D&amp;hl=gu&amp;source=homepage&amp;sa=X&amp;ved=0ahUKEwi3kJDk_fz5AhVmIrkGHR6nAo0Q2ZgBCAw\">\n",
      "       ગુજરાતી\n",
      "      </a>\n",
      "      <a href=\"https://www.google.com/setprefs?sig=0_8Ut2Bvn_X1UZp8KuotRUw9Zm2Zs%3D&amp;hl=kn&amp;source=homepage&amp;sa=X&amp;ved=0ahUKEwi3kJDk_fz5AhVmIrkGHR6nAo0Q2ZgBCA0\">\n",
      "       ಕನ್ನಡ\n",
      "      </a>\n",
      "      <a href=\"https://www.google.com/setprefs?sig=0_8Ut2Bvn_X1UZp8KuotRUw9Zm2Zs%3D&amp;hl=ml&amp;source=homepage&amp;sa=X&amp;ved=0ahUKEwi3kJDk_fz5AhVmIrkGHR6nAo0Q2ZgBCA4\">\n",
      "       മലയാളം\n",
      "      </a>\n",
      "      <a href=\"https://www.google.com/setprefs?sig=0_8Ut2Bvn_X1UZp8KuotRUw9Zm2Zs%3D&amp;hl=pa&amp;source=homepage&amp;sa=X&amp;ved=0ahUKEwi3kJDk_fz5AhVmIrkGHR6nAo0Q2ZgBCA8\">\n",
      "       ਪੰਜਾਬੀ\n",
      "      </a>\n",
      "     </div>\n",
      "    </div>\n",
      "   </div>\n",
      "   <span id=\"footer\">\n",
      "    <div style=\"font-size:10pt\">\n",
      "     <div id=\"WqQANb\" style=\"margin:19px auto;text-align:center\">\n",
      "      <a href=\"/intl/en/ads/\">\n",
      "       Advertising Programs\n",
      "      </a>\n",
      "      <a href=\"http://www.google.co.in/services/\">\n",
      "       Business Solutions\n",
      "      </a>\n",
      "      <a href=\"/intl/en/about.html\">\n",
      "       About Google\n",
      "      </a>\n",
      "      <a href=\"https://www.google.com/setprefdomain?prefdom=IN&amp;prev=https://www.google.co.in/&amp;sig=K_E51AAHiv7pPYcwB3sEUACtpcenY%3D\">\n",
      "       Google.co.in\n",
      "      </a>\n",
      "     </div>\n",
      "    </div>\n",
      "    <p style=\"font-size:8pt;color:#70757a\">\n",
      "     © 2022 -\n",
      "     <a href=\"/intl/en/policies/privacy/\">\n",
      "      Privacy\n",
      "     </a>\n",
      "     -\n",
      "     <a href=\"/intl/en/policies/terms/\">\n",
      "      Terms\n",
      "     </a>\n",
      "    </p>\n",
      "   </span>\n",
      "  </center>\n",
      "  <script nonce=\"LXi2qQoHMmSpmoor9McBYg\">\n",
      "   (function(){window.google.cdo={height:757,width:1440};(function(){\n",
      "var a=window.innerWidth,b=window.innerHeight;if(!a||!b){var c=window.document,d=\"CSS1Compat\"==c.compatMode?c.documentElement:c.body;a=d.clientWidth;b=d.clientHeight}a&&b&&(a!=google.cdo.width||b!=google.cdo.height)&&google.log(\"\",\"\",\"/client_204?&atyp=i&biw=\"+a+\"&bih=\"+b+\"&ei=\"+google.kEI);}).call(this);})();\n",
      "  </script>\n",
      "  <script nonce=\"LXi2qQoHMmSpmoor9McBYg\">\n",
      "   (function(){google.xjs={ck:'xjs.hp.nAt8mkHlvVw.L.X.O',cs:'ACT90oFH_LqnEE3o9N290A12WEZRcJalDA',excm:[]};})();\n",
      "  </script>\n",
      "  <script nonce=\"LXi2qQoHMmSpmoor9McBYg\">\n",
      "   (function(){var u='/xjs/_/js/k\\x3dxjs.hp.en.M-3u9_jcs2A.O/am\\x3dAACeAAAkAEAB/d\\x3d1/ed\\x3d1/rs\\x3dACT90oEjw1swDRl5q0JI8WTMF0hipesscA/m\\x3dsb_he,d';\n",
      "var d=this||self,e=function(a){return a};\n",
      "var g;var l=function(a,b){this.g=b===h?a:\"\"};l.prototype.toString=function(){return this.g+\"\"};var h={};function n(){var a=u;google.lx=function(){p(a);google.lx=function(){}};google.bx||google.lx()}\n",
      "function p(a){google.timers&&google.timers.load&&google.tick&&google.tick(\"load\",\"xjsls\");var b=document;var c=\"SCRIPT\";\"application/xhtml+xml\"===b.contentType&&(c=c.toLowerCase());c=b.createElement(c);if(void 0===g){b=null;var k=d.trustedTypes;if(k&&k.createPolicy){try{b=k.createPolicy(\"goog#html\",{createHTML:e,createScript:e,createScriptURL:e})}catch(q){d.console&&d.console.error(q.message)}g=b}else g=b}a=(b=g)?b.createScriptURL(a):a;a=new l(a,h);c.src=a instanceof l&&a.constructor===l?a.g:\"type_error:TrustedResourceUrl\";var f,m;(f=(a=null==(m=(f=(c.ownerDocument&&c.ownerDocument.defaultView||window).document).querySelector)?void 0:m.call(f,\"script[nonce]\"))?a.nonce||a.getAttribute(\"nonce\")||\"\":\"\")&&c.setAttribute(\"nonce\",f);document.body.appendChild(c);google.psa=!0};google.xjsu=u;setTimeout(function(){n()},0);})();function _DumpException(e){throw e;}\n",
      "function _F_installCss(c){}\n",
      "(function(){google.jl={blt:'none',chnk:0,dw:false,dwu:true,emtn:0,end:0,ine:false,injs:'none',injt:0,injth:0,injv2:false,lls:'default',pdt:0,rep:0,snet:true,strt:0,ubm:false,uwp:true};})();(function(){var pmc='{\\x22d\\x22:{},\\x22sb_he\\x22:{\\x22agen\\x22:true,\\x22cgen\\x22:true,\\x22client\\x22:\\x22heirloom-hp\\x22,\\x22dh\\x22:true,\\x22dhqt\\x22:true,\\x22ds\\x22:\\x22\\x22,\\x22ffql\\x22:\\x22en\\x22,\\x22fl\\x22:true,\\x22host\\x22:\\x22google.com\\x22,\\x22isbh\\x22:28,\\x22jsonp\\x22:true,\\x22msgs\\x22:{\\x22cibl\\x22:\\x22Clear Search\\x22,\\x22dym\\x22:\\x22Did you mean:\\x22,\\x22lcky\\x22:\\x22I\\\\u0026#39;m Feeling Lucky\\x22,\\x22lml\\x22:\\x22Learn more\\x22,\\x22oskt\\x22:\\x22Input tools\\x22,\\x22psrc\\x22:\\x22This search was removed from your \\\\u003Ca href\\x3d\\\\\\x22/history\\\\\\x22\\\\u003EWeb History\\\\u003C/a\\\\u003E\\x22,\\x22psrl\\x22:\\x22Remove\\x22,\\x22sbit\\x22:\\x22Search by image\\x22,\\x22srch\\x22:\\x22Google Search\\x22},\\x22ovr\\x22:{},\\x22pq\\x22:\\x22\\x22,\\x22refpd\\x22:true,\\x22rfs\\x22:[],\\x22sbas\\x22:\\x220 3px 8px 0 rgba(0,0,0,0.2),0 0 0 1px rgba(0,0,0,0.08)\\x22,\\x22sbpl\\x22:16,\\x22sbpr\\x22:16,\\x22scd\\x22:10,\\x22stok\\x22:\\x22E6xIp_fsToLfZpy3ZDl9bYtb0RI\\x22,\\x22uhde\\x22:false}}';google.pmc=JSON.parse(pmc);})();\n",
      "  </script>\n",
      " </body>\n",
      "</html>\n"
     ]
    }
   ],
   "source": [
    "print(soup.prettify())"
   ]
  },
  {
   "cell_type": "markdown",
   "id": "5b358ced-5be9-4511-85da-8db328fcbb72",
   "metadata": {},
   "source": [
    "`find_all()` method of the BeautifulSoup object used to find perticular tags in the above src file.<br>\n",
    "Here the find_all() method is used to find the links with \"a\" tags.<br>\n",
    "Returns a list."
   ]
  },
  {
   "cell_type": "code",
   "execution_count": 14,
   "id": "85c592d1-bf33-4e18-a097-b1b2b02232ec",
   "metadata": {},
   "outputs": [],
   "source": [
    "links = soup.find_all(\"a\")"
   ]
  },
  {
   "cell_type": "code",
   "execution_count": 15,
   "id": "eb91e0d5-0b34-4abf-a347-b906c3856fb3",
   "metadata": {},
   "outputs": [
    {
     "data": {
      "text/plain": [
       "[<a class=\"gb1\" href=\"https://www.google.co.in/imghp?hl=en&amp;tab=wi\">Images</a>,\n",
       " <a class=\"gb1\" href=\"https://maps.google.co.in/maps?hl=en&amp;tab=wl\">Maps</a>,\n",
       " <a class=\"gb1\" href=\"https://play.google.com/?hl=en&amp;tab=w8\">Play</a>,\n",
       " <a class=\"gb1\" href=\"https://www.youtube.com/?tab=w1\">YouTube</a>,\n",
       " <a class=\"gb1\" href=\"https://news.google.com/?tab=wn\">News</a>,\n",
       " <a class=\"gb1\" href=\"https://mail.google.com/mail/?tab=wm\">Gmail</a>,\n",
       " <a class=\"gb1\" href=\"https://drive.google.com/?tab=wo\">Drive</a>,\n",
       " <a class=\"gb1\" href=\"https://www.google.co.in/intl/en/about/products?tab=wh\" style=\"text-decoration:none\"><u>More</u> »</a>,\n",
       " <a class=\"gb4\" href=\"http://www.google.co.in/history/optout?hl=en\">Web History</a>,\n",
       " <a class=\"gb4\" href=\"/preferences?hl=en\">Settings</a>,\n",
       " <a class=\"gb4\" href=\"https://accounts.google.com/ServiceLogin?hl=en&amp;passive=true&amp;continue=https://www.google.com/&amp;ec=GAZAAQ\" id=\"gb_70\" target=\"_top\">Sign in</a>,\n",
       " <a href=\"/advanced_search?hl=en-IN&amp;authuser=0\">Advanced search</a>,\n",
       " <a class=\"NKcBbd\" href=\"https://www.google.com/url?q=https://beinternetawesome.withgoogle.com/en_in/%3Futm_source%3Dgoogle%26utm_medium%3Dhpp%26utm_campaign%3Dbts2022&amp;source=hpp&amp;id=19031019&amp;ct=3&amp;usg=AOvVaw2zHZgNScDFvf5Hz_-9ei_z&amp;sa=X&amp;ved=0ahUKEwi3kJDk_fz5AhVmIrkGHR6nAo0Q8IcBCAU\" rel=\"nofollow\">Help your kids be safe and confident online with Be Internet Awesome</a>,\n",
       " <a href=\"https://www.google.com/setprefs?sig=0_8Ut2Bvn_X1UZp8KuotRUw9Zm2Zs%3D&amp;hl=hi&amp;source=homepage&amp;sa=X&amp;ved=0ahUKEwi3kJDk_fz5AhVmIrkGHR6nAo0Q2ZgBCAc\">हिन्दी</a>,\n",
       " <a href=\"https://www.google.com/setprefs?sig=0_8Ut2Bvn_X1UZp8KuotRUw9Zm2Zs%3D&amp;hl=bn&amp;source=homepage&amp;sa=X&amp;ved=0ahUKEwi3kJDk_fz5AhVmIrkGHR6nAo0Q2ZgBCAg\">বাংলা</a>,\n",
       " <a href=\"https://www.google.com/setprefs?sig=0_8Ut2Bvn_X1UZp8KuotRUw9Zm2Zs%3D&amp;hl=te&amp;source=homepage&amp;sa=X&amp;ved=0ahUKEwi3kJDk_fz5AhVmIrkGHR6nAo0Q2ZgBCAk\">తెలుగు</a>,\n",
       " <a href=\"https://www.google.com/setprefs?sig=0_8Ut2Bvn_X1UZp8KuotRUw9Zm2Zs%3D&amp;hl=mr&amp;source=homepage&amp;sa=X&amp;ved=0ahUKEwi3kJDk_fz5AhVmIrkGHR6nAo0Q2ZgBCAo\">मराठी</a>,\n",
       " <a href=\"https://www.google.com/setprefs?sig=0_8Ut2Bvn_X1UZp8KuotRUw9Zm2Zs%3D&amp;hl=ta&amp;source=homepage&amp;sa=X&amp;ved=0ahUKEwi3kJDk_fz5AhVmIrkGHR6nAo0Q2ZgBCAs\">தமிழ்</a>,\n",
       " <a href=\"https://www.google.com/setprefs?sig=0_8Ut2Bvn_X1UZp8KuotRUw9Zm2Zs%3D&amp;hl=gu&amp;source=homepage&amp;sa=X&amp;ved=0ahUKEwi3kJDk_fz5AhVmIrkGHR6nAo0Q2ZgBCAw\">ગુજરાતી</a>,\n",
       " <a href=\"https://www.google.com/setprefs?sig=0_8Ut2Bvn_X1UZp8KuotRUw9Zm2Zs%3D&amp;hl=kn&amp;source=homepage&amp;sa=X&amp;ved=0ahUKEwi3kJDk_fz5AhVmIrkGHR6nAo0Q2ZgBCA0\">ಕನ್ನಡ</a>,\n",
       " <a href=\"https://www.google.com/setprefs?sig=0_8Ut2Bvn_X1UZp8KuotRUw9Zm2Zs%3D&amp;hl=ml&amp;source=homepage&amp;sa=X&amp;ved=0ahUKEwi3kJDk_fz5AhVmIrkGHR6nAo0Q2ZgBCA4\">മലയാളം</a>,\n",
       " <a href=\"https://www.google.com/setprefs?sig=0_8Ut2Bvn_X1UZp8KuotRUw9Zm2Zs%3D&amp;hl=pa&amp;source=homepage&amp;sa=X&amp;ved=0ahUKEwi3kJDk_fz5AhVmIrkGHR6nAo0Q2ZgBCA8\">ਪੰਜਾਬੀ</a>,\n",
       " <a href=\"/intl/en/ads/\">Advertising Programs</a>,\n",
       " <a href=\"http://www.google.co.in/services/\">Business Solutions</a>,\n",
       " <a href=\"/intl/en/about.html\">About Google</a>,\n",
       " <a href=\"https://www.google.com/setprefdomain?prefdom=IN&amp;prev=https://www.google.co.in/&amp;sig=K_E51AAHiv7pPYcwB3sEUACtpcenY%3D\">Google.co.in</a>,\n",
       " <a href=\"/intl/en/policies/privacy/\">Privacy</a>,\n",
       " <a href=\"/intl/en/policies/terms/\">Terms</a>]"
      ]
     },
     "execution_count": 15,
     "metadata": {},
     "output_type": "execute_result"
    }
   ],
   "source": [
    "links"
   ]
  },
  {
   "cell_type": "code",
   "execution_count": 18,
   "id": "4ce161b3-7e71-4e3a-b64e-34ccd1e36980",
   "metadata": {
    "collapsed": true,
    "jupyter": {
     "outputs_hidden": true
    },
    "tags": []
   },
   "outputs": [
    {
     "name": "stdout",
     "output_type": "stream",
     "text": [
      "https://www.google.co.in/imghp?hl=en&tab=wi\n",
      "https://maps.google.co.in/maps?hl=en&tab=wl\n",
      "https://play.google.com/?hl=en&tab=w8\n",
      "https://www.youtube.com/?tab=w1\n",
      "https://news.google.com/?tab=wn\n",
      "https://mail.google.com/mail/?tab=wm\n",
      "https://drive.google.com/?tab=wo\n",
      "https://www.google.co.in/intl/en/about/products?tab=wh\n",
      "http://www.google.co.in/history/optout?hl=en\n",
      "/preferences?hl=en\n",
      "https://accounts.google.com/ServiceLogin?hl=en&passive=true&continue=https://www.google.com/&ec=GAZAAQ\n",
      "/advanced_search?hl=en-IN&authuser=0\n",
      "https://www.google.com/url?q=https://beinternetawesome.withgoogle.com/en_in/%3Futm_source%3Dgoogle%26utm_medium%3Dhpp%26utm_campaign%3Dbts2022&source=hpp&id=19031019&ct=3&usg=AOvVaw2zHZgNScDFvf5Hz_-9ei_z&sa=X&ved=0ahUKEwi3kJDk_fz5AhVmIrkGHR6nAo0Q8IcBCAU\n",
      "https://www.google.com/setprefs?sig=0_8Ut2Bvn_X1UZp8KuotRUw9Zm2Zs%3D&hl=hi&source=homepage&sa=X&ved=0ahUKEwi3kJDk_fz5AhVmIrkGHR6nAo0Q2ZgBCAc\n",
      "https://www.google.com/setprefs?sig=0_8Ut2Bvn_X1UZp8KuotRUw9Zm2Zs%3D&hl=bn&source=homepage&sa=X&ved=0ahUKEwi3kJDk_fz5AhVmIrkGHR6nAo0Q2ZgBCAg\n",
      "https://www.google.com/setprefs?sig=0_8Ut2Bvn_X1UZp8KuotRUw9Zm2Zs%3D&hl=te&source=homepage&sa=X&ved=0ahUKEwi3kJDk_fz5AhVmIrkGHR6nAo0Q2ZgBCAk\n",
      "https://www.google.com/setprefs?sig=0_8Ut2Bvn_X1UZp8KuotRUw9Zm2Zs%3D&hl=mr&source=homepage&sa=X&ved=0ahUKEwi3kJDk_fz5AhVmIrkGHR6nAo0Q2ZgBCAo\n",
      "https://www.google.com/setprefs?sig=0_8Ut2Bvn_X1UZp8KuotRUw9Zm2Zs%3D&hl=ta&source=homepage&sa=X&ved=0ahUKEwi3kJDk_fz5AhVmIrkGHR6nAo0Q2ZgBCAs\n",
      "https://www.google.com/setprefs?sig=0_8Ut2Bvn_X1UZp8KuotRUw9Zm2Zs%3D&hl=gu&source=homepage&sa=X&ved=0ahUKEwi3kJDk_fz5AhVmIrkGHR6nAo0Q2ZgBCAw\n",
      "https://www.google.com/setprefs?sig=0_8Ut2Bvn_X1UZp8KuotRUw9Zm2Zs%3D&hl=kn&source=homepage&sa=X&ved=0ahUKEwi3kJDk_fz5AhVmIrkGHR6nAo0Q2ZgBCA0\n",
      "https://www.google.com/setprefs?sig=0_8Ut2Bvn_X1UZp8KuotRUw9Zm2Zs%3D&hl=ml&source=homepage&sa=X&ved=0ahUKEwi3kJDk_fz5AhVmIrkGHR6nAo0Q2ZgBCA4\n",
      "https://www.google.com/setprefs?sig=0_8Ut2Bvn_X1UZp8KuotRUw9Zm2Zs%3D&hl=pa&source=homepage&sa=X&ved=0ahUKEwi3kJDk_fz5AhVmIrkGHR6nAo0Q2ZgBCA8\n",
      "/intl/en/ads/\n",
      "http://www.google.co.in/services/\n",
      "/intl/en/about.html\n",
      "https://www.google.com/setprefdomain?prefdom=IN&prev=https://www.google.co.in/&sig=K_E51AAHiv7pPYcwB3sEUACtpcenY%3D\n",
      "/intl/en/policies/privacy/\n",
      "/intl/en/policies/terms/\n"
     ]
    }
   ],
   "source": [
    "for link in links:\n",
    "    print(link.get('href'))"
   ]
  },
  {
   "cell_type": "code",
   "execution_count": 22,
   "id": "1d5bf702-95ca-4ec6-b3d9-6905c9b64e89",
   "metadata": {},
   "outputs": [
    {
     "name": "stdout",
     "output_type": "stream",
     "text": [
      "<a href=\"/intl/en/about.html\">About Google</a>\n",
      "/intl/en/about.html\n"
     ]
    }
   ],
   "source": [
    "for link in links:\n",
    "    if \"About\" in link.text:\n",
    "        print(link)\n",
    "        print(link.attrs['href'])"
   ]
  },
  {
   "cell_type": "code",
   "execution_count": 20,
   "id": "425e5d00-f286-4c79-bc22-0918d791403b",
   "metadata": {},
   "outputs": [
    {
     "data": {
      "text/plain": [
       "bs4.element.Tag"
      ]
     },
     "execution_count": 20,
     "metadata": {},
     "output_type": "execute_result"
    }
   ],
   "source": [
    "type(links[1])"
   ]
  },
  {
   "cell_type": "markdown",
   "id": "b47d363e-948b-4fb4-bdd5-531066fc4a54",
   "metadata": {},
   "source": [
    "Beautiful Soup transforms a complex HTML document into a complex tree of Python objects. Four common kinds of objects: \n",
    ">Tag, <br>\n",
    "NavigableString, <br>\n",
    "BeautifulSoup, <br>\n",
    "and Comment."
   ]
  },
  {
   "cell_type": "code",
   "execution_count": 24,
   "id": "7a24df54-0976-462a-9c49-6d00280730a3",
   "metadata": {},
   "outputs": [
    {
     "data": {
      "text/plain": [
       "<a class=\"gb1\" href=\"https://play.google.com/?hl=en&amp;tab=w8\">Play</a>"
      ]
     },
     "execution_count": 24,
     "metadata": {},
     "output_type": "execute_result"
    }
   ],
   "source": [
    "links[2]"
   ]
  },
  {
   "cell_type": "code",
   "execution_count": 25,
   "id": "8e5682dd-ceea-4815-82f4-daa437936e7d",
   "metadata": {},
   "outputs": [
    {
     "data": {
      "text/plain": [
       "'Play'"
      ]
     },
     "execution_count": 25,
     "metadata": {},
     "output_type": "execute_result"
    }
   ],
   "source": [
    "links[2].text"
   ]
  },
  {
   "cell_type": "code",
   "execution_count": 29,
   "id": "c271b188-19a5-4c9e-a5d8-7b8f6bed1fe0",
   "metadata": {},
   "outputs": [
    {
     "data": {
      "text/plain": [
       "'https://play.google.com/?hl=en&tab=w8'"
      ]
     },
     "execution_count": 29,
     "metadata": {},
     "output_type": "execute_result"
    }
   ],
   "source": [
    "links[2].attrs['href']"
   ]
  },
  {
   "cell_type": "code",
   "execution_count": 30,
   "id": "cea97849-9a1b-4ab7-a9db-24cc8456c8a5",
   "metadata": {},
   "outputs": [
    {
     "data": {
      "text/plain": [
       "['gb1']"
      ]
     },
     "execution_count": 30,
     "metadata": {},
     "output_type": "execute_result"
    }
   ],
   "source": [
    "links[2].attrs['class']"
   ]
  },
  {
   "cell_type": "code",
   "execution_count": 31,
   "id": "1aaeb7dc-b6b6-43a4-af10-ec05d8ee5aef",
   "metadata": {},
   "outputs": [
    {
     "data": {
      "text/plain": [
       "<a class=\"gb1\" href=\"https://www.google.co.in/imghp?hl=en&amp;tab=wi\">Images</a>"
      ]
     },
     "execution_count": 31,
     "metadata": {},
     "output_type": "execute_result"
    }
   ],
   "source": [
    "soup.a"
   ]
  },
  {
   "cell_type": "code",
   "execution_count": 33,
   "id": "d97cb9f4-6b2e-4a87-9d64-9ea1abb0ccac",
   "metadata": {},
   "outputs": [
    {
     "name": "stderr",
     "output_type": "stream",
     "text": [
      "D:\\Users\\20036294\\Anaconda3\\lib\\site-packages\\urllib3\\connectionpool.py:1043: InsecureRequestWarning: Unverified HTTPS request is being made to host 'archive.library.iitb.ac.in'. Adding certificate verification is strongly advised. See: https://urllib3.readthedocs.io/en/1.26.x/advanced-usage.html#ssl-warnings\n",
      "  warnings.warn(\n"
     ]
    }
   ],
   "source": [
    "convo = requests.get(\"https://archive.library.iitb.ac.in/items/show/5124\", verify=False)"
   ]
  },
  {
   "cell_type": "code",
   "execution_count": 34,
   "id": "63b55e8f-e333-4214-99cc-0040794d2702",
   "metadata": {},
   "outputs": [],
   "source": [
    "convo_src = convo.content"
   ]
  },
  {
   "cell_type": "code",
   "execution_count": 35,
   "id": "f06597c9-9db9-4c09-8073-27273313e968",
   "metadata": {},
   "outputs": [],
   "source": [
    "convo_soup = BeautifulSoup(convo_src, 'lxml')"
   ]
  },
  {
   "cell_type": "code",
   "execution_count": 37,
   "id": "f7254d52-d9aa-4538-9459-d3c3e58fbdf1",
   "metadata": {},
   "outputs": [],
   "source": [
    "convo_soup_a = convo_soup.find_all('a')"
   ]
  },
  {
   "cell_type": "code",
   "execution_count": 73,
   "id": "e4e3e071-b08e-4ca3-95de-3c99163cc9ea",
   "metadata": {
    "tags": []
   },
   "outputs": [
    {
     "data": {
      "text/plain": [
       "{'class': ['full'],\n",
       " 'src': 'https://archive.library.iitb.ac.in/files/fullsize/14cffcc2b4e7704731f4bce352e148d8.jpg',\n",
       " 'alt': 'MEDALIST (94).JPG',\n",
       " 'title': 'MEDALIST (94).JPG'}"
      ]
     },
     "execution_count": 73,
     "metadata": {},
     "output_type": "execute_result"
    }
   ],
   "source": [
    "convo_soup_a[100].find('img').attrs"
   ]
  },
  {
   "cell_type": "code",
   "execution_count": 65,
   "id": "7abb6c24-3333-4cb3-8649-74a363273372",
   "metadata": {},
   "outputs": [
    {
     "data": {
      "text/plain": [
       "'MEDALI'"
      ]
     },
     "execution_count": 65,
     "metadata": {},
     "output_type": "execute_result"
    }
   ],
   "source": [
    "convo_soup_a[100].find('img').attrs['alt'][:6]"
   ]
  },
  {
   "cell_type": "code",
   "execution_count": 116,
   "id": "ed60afc9-9189-44bb-b4d9-d5b25b8124e5",
   "metadata": {
    "tags": []
   },
   "outputs": [
    {
     "ename": "KeyError",
     "evalue": "'class'",
     "output_type": "error",
     "traceback": [
      "\u001b[1;31m---------------------------------------------------------------------------\u001b[0m",
      "\u001b[1;31mKeyError\u001b[0m                                  Traceback (most recent call last)",
      "Input \u001b[1;32mIn [116]\u001b[0m, in \u001b[0;36m<cell line: 2>\u001b[1;34m()\u001b[0m\n\u001b[0;32m      3\u001b[0m img_tag \u001b[38;5;241m=\u001b[39m a_tag\u001b[38;5;241m.\u001b[39mfind(\u001b[38;5;124m'\u001b[39m\u001b[38;5;124mimg\u001b[39m\u001b[38;5;124m'\u001b[39m)\n\u001b[0;32m      4\u001b[0m \u001b[38;5;28;01mif\u001b[39;00m img_tag \u001b[38;5;129;01mis\u001b[39;00m \u001b[38;5;129;01mnot\u001b[39;00m \u001b[38;5;28;01mNone\u001b[39;00m:\n\u001b[1;32m----> 5\u001b[0m     urls\u001b[38;5;241m.\u001b[39mappend(\u001b[43mimg_tag\u001b[49m\u001b[38;5;241;43m.\u001b[39;49m\u001b[43mattrs\u001b[49m\u001b[43m[\u001b[49m\u001b[38;5;124;43m'\u001b[39;49m\u001b[38;5;124;43mclass\u001b[39;49m\u001b[38;5;124;43m'\u001b[39;49m\u001b[43m]\u001b[49m)\n",
      "\u001b[1;31mKeyError\u001b[0m: 'class'"
     ]
    }
   ],
   "source": [
    "urls = []\n",
    "for link in convo_soup_a:\n",
    "    "
   ]
  },
  {
   "cell_type": "code",
   "execution_count": 114,
   "id": "e32538a2-d0c4-4f97-9d8d-a0daaa292505",
   "metadata": {},
   "outputs": [
    {
     "data": {
      "text/plain": [
       "{'class': ['full'],\n",
       " 'src': 'https://archive.library.iitb.ac.in/files/fullsize/0c38a45c874abf9c397f3227fc3f4886.jpg',\n",
       " 'alt': 'MEDALIST (10).JPG',\n",
       " 'title': 'MEDALIST (10).JPG'}"
      ]
     },
     "execution_count": 114,
     "metadata": {},
     "output_type": "execute_result"
    }
   ],
   "source": [
    "convo_soup.find_all(\"img\")[10].attrs"
   ]
  },
  {
   "cell_type": "code",
   "execution_count": 107,
   "id": "e5c7f99d-29d8-4a03-903d-4ebe423749a5",
   "metadata": {},
   "outputs": [],
   "source": [
    "result = requests.get(\"https://www.whitehouse.gov/briefing-room/\")\n",
    "src = result.content\n",
    "soup = BeautifulSoup(src, 'lxml')"
   ]
  },
  {
   "cell_type": "code",
   "execution_count": 109,
   "id": "866f3ee6-e4e2-4840-adb0-c439d60e8d16",
   "metadata": {},
   "outputs": [],
   "source": [
    "urls = []\n",
    "for h2_tag in soup.find_all(\"h2\"):\n",
    "    a_tag = h2_tag.find(\"a\")\n",
    "    if a_tag is not None:\n",
    "        urls.append(a_tag.attrs['href'])"
   ]
  },
  {
   "cell_type": "markdown",
   "id": "7a2596c1-41d7-4221-b269-7020ea38901a",
   "metadata": {},
   "source": [
    "#TODO"
   ]
  },
  {
   "cell_type": "markdown",
   "id": "f3bdf232-09ba-43ff-8c12-e6e41aa3dd4b",
   "metadata": {},
   "source": [
    "## Objects in BeautifulSoup"
   ]
  },
  {
   "cell_type": "code",
   "execution_count": null,
   "id": "b2e968c1-762e-46a7-8378-fe4fa9a874c6",
   "metadata": {},
   "outputs": [],
   "source": []
  }
 ],
 "metadata": {
  "kernelspec": {
   "display_name": "Python 3 (ipykernel)",
   "language": "python",
   "name": "python3"
  },
  "language_info": {
   "codemirror_mode": {
    "name": "ipython",
    "version": 3
   },
   "file_extension": ".py",
   "mimetype": "text/x-python",
   "name": "python",
   "nbconvert_exporter": "python",
   "pygments_lexer": "ipython3",
   "version": "3.9.12"
  }
 },
 "nbformat": 4,
 "nbformat_minor": 5
}
