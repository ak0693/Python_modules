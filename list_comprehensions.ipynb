{
 "cells": [
  {
   "cell_type": "markdown",
   "id": "bdf9cb40-9138-41ca-a57b-00a5ee5f4561",
   "metadata": {},
   "source": [
    "# List Comprehension"
   ]
  },
  {
   "cell_type": "markdown",
   "id": "676cb359-b345-4b12-8652-fbefba344bf5",
   "metadata": {},
   "source": [
    "List comprehensions provides a shorter syntax for creating a new list based on the values of an existing list."
   ]
  },
  {
   "cell_type": "code",
   "execution_count": 1,
   "id": "e24821b6-a166-4bcc-a932-38b73bffd50c",
   "metadata": {},
   "outputs": [],
   "source": [
    "# creating a new list with elements with 'a' in them, using list comprehensions.\n",
    "fruits = 'apple banana cherry kiwi mango'.split()\n",
    "newlist = [x for x in fruits if 'a' in x]"
   ]
  },
  {
   "cell_type": "code",
   "execution_count": 2,
   "id": "ab914202-3bfd-464f-8a08-a3c015735ddb",
   "metadata": {},
   "outputs": [
    {
     "data": {
      "text/plain": [
       "['apple', 'banana', 'mango']"
      ]
     },
     "execution_count": 2,
     "metadata": {},
     "output_type": "execute_result"
    }
   ],
   "source": [
    "newlist"
   ]
  },
  {
   "cell_type": "markdown",
   "id": "10f573de-74e8-46ec-a3a9-18eb1edd0f40",
   "metadata": {},
   "source": [
    "## Syntax\n",
    "\n",
    "`newlist = [expression for item in iterable if condition ==  True]`\n",
    "\n",
    "This returns a new list, without modifying the original list"
   ]
  },
  {
   "cell_type": "markdown",
   "id": "4842dad6-21e4-4e33-bb22-054dabdf0a5d",
   "metadata": {},
   "source": [
    "`condition` is optional."
   ]
  },
  {
   "cell_type": "markdown",
   "id": "29b693ff-dc58-47ba-b951-092609cfe145",
   "metadata": {},
   "source": [
    "`Iterable` can be any iterable object, like a list, tuple, set etc."
   ]
  },
  {
   "cell_type": "code",
   "execution_count": 3,
   "id": "466ad238-a02d-4324-98ea-1401d30ab7c2",
   "metadata": {},
   "outputs": [
    {
     "data": {
      "text/plain": [
       "[0, 1, 2, 3, 4, 5, 6, 7, 8, 9]"
      ]
     },
     "execution_count": 3,
     "metadata": {},
     "output_type": "execute_result"
    }
   ],
   "source": [
    "# using range() function as an iterable\n",
    "\n",
    "newlist = [x for x in range(10)]\n",
    "newlist"
   ]
  },
  {
   "cell_type": "code",
   "execution_count": 4,
   "id": "f0b5e6b5-7a42-4d1d-bc1c-d59d2deddfe7",
   "metadata": {},
   "outputs": [
    {
     "data": {
      "text/plain": [
       "[0, 1, 2, 3, 4]"
      ]
     },
     "execution_count": 4,
     "metadata": {},
     "output_type": "execute_result"
    }
   ],
   "source": [
    "newlist = [x for x in range(10) if x < 5]\n",
    "newlist"
   ]
  },
  {
   "cell_type": "markdown",
   "id": "b2ac4b16-c2b9-4421-976d-f81f631fce1d",
   "metadata": {},
   "source": [
    "`Expression` is the current item in the iteration and also the outcome, which can be manipulated before it ends up like a list item in the new list."
   ]
  },
  {
   "cell_type": "code",
   "execution_count": 5,
   "id": "6eff1914-5691-45fb-a7ab-27c8531a381c",
   "metadata": {},
   "outputs": [
    {
     "data": {
      "text/plain": [
       "['APPLE', 'BANANA', 'CHERRY', 'KIWI', 'MANGO']"
      ]
     },
     "execution_count": 5,
     "metadata": {},
     "output_type": "execute_result"
    }
   ],
   "source": [
    "#setting the values in the new list to upper case:\n",
    "\n",
    "newlist = [x.upper() for x in fruits]\n",
    "newlist"
   ]
  },
  {
   "cell_type": "code",
   "execution_count": 6,
   "id": "213b4506-bf00-4613-ba1a-53ad3532fa48",
   "metadata": {},
   "outputs": [
    {
     "data": {
      "text/plain": [
       "['hello', 'hello', 'hello', 'hello', 'hello']"
      ]
     },
     "execution_count": 6,
     "metadata": {},
     "output_type": "execute_result"
    }
   ],
   "source": [
    "newlist = ['hello' for x in fruits]\n",
    "newlist"
   ]
  },
  {
   "cell_type": "markdown",
   "id": "d153dc64-635f-4766-b0d4-ce256d3e02c5",
   "metadata": {},
   "source": [
    "`expression` can also contain conditions, as a way to manipulate the outcome:"
   ]
  },
  {
   "cell_type": "code",
   "execution_count": 7,
   "id": "1f56b45c-09cf-4660-95b5-3f5c3f9dc6ab",
   "metadata": {},
   "outputs": [
    {
     "data": {
      "text/plain": [
       "['apple', 'orange', 'cherry', 'kiwi', 'mango']"
      ]
     },
     "execution_count": 7,
     "metadata": {},
     "output_type": "execute_result"
    }
   ],
   "source": [
    "newlist = [x if x != 'banana' else 'orange' for x in fruits]\n",
    "newlist"
   ]
  },
  {
   "cell_type": "code",
   "execution_count": 8,
   "id": "65bb7408-f2ff-4f19-bb9e-02d19242f598",
   "metadata": {},
   "outputs": [
    {
     "data": {
      "text/plain": [
       "[[0, 1, 2], [0, 1, 2], [0, 1, 2]]"
      ]
     },
     "execution_count": 8,
     "metadata": {},
     "output_type": "execute_result"
    }
   ],
   "source": [
    "# nested lists using list compresensions.\n",
    "\n",
    "matrix = [[x for x in range(3)] for x in range(3)]\n",
    "matrix"
   ]
  },
  {
   "cell_type": "markdown",
   "id": "6ae32dff-432c-476e-bd35-9c5b59de0d10",
   "metadata": {},
   "source": [
    "## List Comprehensions and Lambda Functions"
   ]
  },
  {
   "cell_type": "code",
   "execution_count": 9,
   "id": "ea07e087-3702-48c2-8959-1595b7b053b4",
   "metadata": {},
   "outputs": [
    {
     "data": {
      "text/plain": [
       "[10, 20, 30, 40, 50]"
      ]
     },
     "execution_count": 9,
     "metadata": {},
     "output_type": "execute_result"
    }
   ],
   "source": [
    "numbers = [x*10 for x in range(1,6)]\n",
    "numbers"
   ]
  },
  {
   "cell_type": "code",
   "execution_count": 10,
   "id": "c1cbbc7b-8e27-456d-a125-4ae5f0574bc2",
   "metadata": {},
   "outputs": [
    {
     "data": {
      "text/plain": [
       "[10, 20, 30, 40, 50]"
      ]
     },
     "execution_count": 10,
     "metadata": {},
     "output_type": "execute_result"
    }
   ],
   "source": [
    "numbers =  list(map(lambda i: i*10, [x for x in range(1, 6)]))\n",
    "numbers"
   ]
  },
  {
   "cell_type": "code",
   "execution_count": 11,
   "id": "02b600a1-20f4-46e6-b6ae-585a546a2920",
   "metadata": {},
   "outputs": [
    {
     "data": {
      "text/plain": [
       "['Even number',\n",
       " 'Odd number',\n",
       " 'Even number',\n",
       " 'Odd number',\n",
       " 'Even number',\n",
       " 'Odd number',\n",
       " 'Even number',\n",
       " 'Odd number',\n",
       " 'Even number',\n",
       " 'Odd number']"
      ]
     },
     "execution_count": 11,
     "metadata": {},
     "output_type": "execute_result"
    }
   ],
   "source": [
    "lis = ['Even number' if x%2 == 0 else \"Odd number\" for x in range(10)]\n",
    "lis"
   ]
  },
  {
   "cell_type": "code",
   "execution_count": 12,
   "id": "2e4fb8ce-a797-42b5-be6a-a46e3af2093f",
   "metadata": {},
   "outputs": [
    {
     "data": {
      "text/plain": [
       "[[10, 40, 70], [20, 50, 80], [30, 60, 90]]"
      ]
     },
     "execution_count": 12,
     "metadata": {},
     "output_type": "execute_result"
    }
   ],
   "source": [
    "# Generating the transpose of matrix\n",
    "\n",
    "two_D_matrix = [[10, 20, 30],\n",
    "                [40, 50, 60],\n",
    "                [70, 80, 90]]\n",
    "transpose = [[i[j] for i in two_D_matrix] for j in range(len(two_D_matrix))]\n",
    "\n",
    "transpose"
   ]
  },
  {
   "cell_type": "code",
   "execution_count": 13,
   "id": "17d5f8cc-b294-41cb-8e4f-39d78d33357b",
   "metadata": {},
   "outputs": [
    {
     "data": {
      "text/plain": [
       "3"
      ]
     },
     "execution_count": 13,
     "metadata": {},
     "output_type": "execute_result"
    }
   ],
   "source": [
    "len(two_D_matrix)"
   ]
  },
  {
   "cell_type": "code",
   "execution_count": 14,
   "id": "99d0e2f5-e19f-45c7-80ff-f9c1a1492182",
   "metadata": {},
   "outputs": [
    {
     "data": {
      "text/plain": [
       "['tsiL', 'snoisneherpmoC', 'era', 'looc']"
      ]
     },
     "execution_count": 14,
     "metadata": {},
     "output_type": "execute_result"
    }
   ],
   "source": [
    "# reverse each string in a tuple\n",
    "list1 = [string[::-1] for string in ('List', 'Comprehensions','are', 'cool')]\n",
    "list1"
   ]
  },
  {
   "cell_type": "markdown",
   "id": "028b178f-c5a1-403c-9cdf-236d5074d28f",
   "metadata": {},
   "source": [
    "## Walrus operator\n",
    "`:=`"
   ]
  },
  {
   "cell_type": "code",
   "execution_count": 15,
   "id": "294e9dc3-90fc-4710-98f1-fb094dbbc868",
   "metadata": {},
   "outputs": [
    {
     "data": {
      "text/plain": [
       "[104, 102, 109, 107, 109, 102, 102, 101, 106, 107, 103, 105]"
      ]
     },
     "execution_count": 15,
     "metadata": {},
     "output_type": "execute_result"
    }
   ],
   "source": [
    "import random\n",
    "def get_weather_data():\n",
    "    return random.randrange(90, 110)\n",
    "hot_temps = [temp for _ in range(20) if (temp := get_weather_data()) >= 100]\n",
    "hot_temps"
   ]
  },
  {
   "cell_type": "markdown",
   "id": "a5cc2787-a4d5-4d03-bc30-65e309edec7d",
   "metadata": {},
   "source": [
    "requests from an API or a function over some condition to be added in the list."
   ]
  },
  {
   "cell_type": "code",
   "execution_count": null,
   "id": "9aac324d-12ed-4114-8c32-afbd795388fd",
   "metadata": {},
   "outputs": [],
   "source": []
  }
 ],
 "metadata": {
  "kernelspec": {
   "display_name": "Python 3 (ipykernel)",
   "language": "python",
   "name": "python3"
  },
  "language_info": {
   "codemirror_mode": {
    "name": "ipython",
    "version": 3
   },
   "file_extension": ".py",
   "mimetype": "text/x-python",
   "name": "python",
   "nbconvert_exporter": "python",
   "pygments_lexer": "ipython3",
   "version": "3.9.12"
  }
 },
 "nbformat": 4,
 "nbformat_minor": 5
}
